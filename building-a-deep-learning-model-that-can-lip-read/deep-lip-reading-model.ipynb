{
 "cells": [
  {
   "cell_type": "markdown",
   "id": "12e7aea3-9f04-4758-abb3-7fa5d52e5179",
   "metadata": {},
   "source": [
    "## Building a Deep Learning Model that can Lip Read"
   ]
  },
  {
   "cell_type": "markdown",
   "id": "c1663e8f-11e6-4e76-8212-5e782bb7672a",
   "metadata": {},
   "source": [
    "### 0. Install and Import Dependencies"
   ]
  },
  {
   "cell_type": "code",
   "execution_count": 1,
   "id": "761a3eb7-db17-4e13-99ba-da5b86834d62",
   "metadata": {},
   "outputs": [],
   "source": [
    "# !pip install opencv-python matplotlib imageio tensorflow gdown"
   ]
  },
  {
   "cell_type": "code",
   "execution_count": 2,
   "id": "39b85431-571a-49da-83b7-2fc35be9581f",
   "metadata": {},
   "outputs": [
    {
     "name": "stderr",
     "output_type": "stream",
     "text": [
      "2025-07-20 09:29:03.860623: I tensorflow/core/platform/cpu_feature_guard.cc:182] This TensorFlow binary is optimized to use available CPU instructions in performance-critical operations.\n",
      "To enable the following instructions: SSE4.1 SSE4.2 AVX AVX2 FMA, in other operations, rebuild TensorFlow with the appropriate compiler flags.\n"
     ]
    }
   ],
   "source": [
    "import os\n",
    "import cv2\n",
    "import tensorflow as tf\n",
    "import numpy as np\n",
    "from typing import List\n",
    "from matplotlib import pyplot as plt\n",
    "import imageio"
   ]
  },
  {
   "cell_type": "code",
   "execution_count": 3,
   "id": "9bc37c0d-f52c-4597-8b87-d49b8f8518eb",
   "metadata": {},
   "outputs": [
    {
     "data": {
      "text/plain": [
       "[PhysicalDevice(name='/physical_device:CPU:0', device_type='CPU')]"
      ]
     },
     "execution_count": 3,
     "metadata": {},
     "output_type": "execute_result"
    }
   ],
   "source": [
    "tf.config.list_physical_devices('CPU')"
   ]
  },
  {
   "cell_type": "code",
   "execution_count": 4,
   "id": "491f859d-fd10-4f27-9d50-ec8fb4195d61",
   "metadata": {},
   "outputs": [],
   "source": [
    "physical_devices = tf.config.list_physical_devices('GPU')\n",
    "try:\n",
    "    tf.config.experimental.set_memory_growth(physical_devices[0], True)\n",
    "except:\n",
    "    pass"
   ]
  },
  {
   "cell_type": "markdown",
   "id": "61741a85-5f71-487e-bbf2-80637a7b3c69",
   "metadata": {},
   "source": [
    "### 1. Build Data Loading Functions"
   ]
  },
  {
   "cell_type": "code",
   "execution_count": 5,
   "id": "5360e62a-969a-4b68-8222-250572cd3fbb",
   "metadata": {},
   "outputs": [],
   "source": [
    "import gdown"
   ]
  },
  {
   "cell_type": "code",
   "execution_count": 6,
   "id": "237efc3d-614a-48c9-8a0f-1028e87bdf97",
   "metadata": {},
   "outputs": [],
   "source": [
    "# url = 'https://drive.google.com/uc?id=1YlvpDLix3S-U8fd-gqRwPcWXAXm8JwjL'\n",
    "# output = 'data.zip'\n",
    "# gdown.download(url, output, quiet=False)\n",
    "# gdown.extractall('data.zip')"
   ]
  },
  {
   "cell_type": "code",
   "execution_count": 7,
   "id": "310bc902-5313-499e-a501-ee7a8d8c26e7",
   "metadata": {},
   "outputs": [],
   "source": [
    "def load_video(path:str) -> List[float]:\n",
    "    cap = cv2.VideoCapture(path)\n",
    "    frames = []\n",
    "    for _ in range(int(cap.get(cv2.CAP_PROP_FRAME_COUNT))):\n",
    "        ret, frame = cap.read()\n",
    "        frame = tf.image.rgb_to_grayscale(frame)\n",
    "        frames.append(frame[190:236, 80:220, :])\n",
    "    cap.release()\n",
    "\n",
    "    mean = tf.math.reduce_mean(frames)\n",
    "    std = tf.math.reduce_std(tf.cast(frames, tf.float32))\n",
    "    return tf.cast((frames - mean), tf.float32) / std"
   ]
  },
  {
   "cell_type": "code",
   "execution_count": 8,
   "id": "9d870633-32a3-42fd-89c8-ae07e53e32b6",
   "metadata": {
    "scrolled": true
   },
   "outputs": [
    {
     "data": {
      "text/plain": [
       "['a',\n",
       " 'b',\n",
       " 'c',\n",
       " 'd',\n",
       " 'e',\n",
       " 'f',\n",
       " 'g',\n",
       " 'h',\n",
       " 'i',\n",
       " 'j',\n",
       " 'k',\n",
       " 'l',\n",
       " 'm',\n",
       " 'n',\n",
       " 'o',\n",
       " 'p',\n",
       " 'q',\n",
       " 'r',\n",
       " 's',\n",
       " 't',\n",
       " 'u',\n",
       " 'v',\n",
       " 'w',\n",
       " 'x',\n",
       " 'y',\n",
       " 'z',\n",
       " \"'\",\n",
       " '?',\n",
       " '!',\n",
       " '1',\n",
       " '2',\n",
       " '3',\n",
       " '4',\n",
       " '5',\n",
       " '6',\n",
       " '7',\n",
       " '8',\n",
       " '9',\n",
       " ' ']"
      ]
     },
     "execution_count": 8,
     "metadata": {},
     "output_type": "execute_result"
    }
   ],
   "source": [
    "vocab = [x for x in \"abcdefghijklmnopqrstuvwxyz'?!123456789 \"]\n",
    "vocab"
   ]
  },
  {
   "cell_type": "code",
   "execution_count": 9,
   "id": "f10a4f59-15b8-4c75-9d52-3e7cc08b4e44",
   "metadata": {},
   "outputs": [
    {
     "name": "stdout",
     "output_type": "stream",
     "text": [
      "The vocabulary is: ['', 'a', 'b', 'c', 'd', 'e', 'f', 'g', 'h', 'i', 'j', 'k', 'l', 'm', 'n', 'o', 'p', 'q', 'r', 's', 't', 'u', 'v', 'w', 'x', 'y', 'z', \"'\", '?', '!', '1', '2', '3', '4', '5', '6', '7', '8', '9', ' '](size =40)\n"
     ]
    },
    {
     "name": "stderr",
     "output_type": "stream",
     "text": [
      "2025-07-20 09:29:06.496037: I tensorflow/core/common_runtime/process_util.cc:146] Creating new thread pool with default inter op setting: 2. Tune using inter_op_parallelism_threads for best performance.\n"
     ]
    }
   ],
   "source": [
    "char_to_num = tf.keras.layers.StringLookup(vocabulary=vocab, oov_token=\"\")\n",
    "num_to_char = tf.keras.layers.StringLookup(\n",
    "    vocabulary=char_to_num.get_vocabulary(), oov_token=\"\", invert=True\n",
    ")\n",
    "print(\n",
    "    f\"The vocabulary is: {char_to_num.get_vocabulary()}\"\n",
    "    f\"(size ={char_to_num.vocabulary_size()})\"\n",
    ")"
   ]
  },
  {
   "cell_type": "code",
   "execution_count": 10,
   "id": "a3d3df68-c1c6-4988-8672-524164d240e5",
   "metadata": {},
   "outputs": [
    {
     "data": {
      "text/plain": [
       "(<tf.Tensor: shape=(3,), dtype=int64, numpy=array([1, 4, 9])>,\n",
       " <tf.Tensor: shape=(3,), dtype=string, numpy=array([b'a', b'd', b'i'], dtype=object)>)"
      ]
     },
     "execution_count": 10,
     "metadata": {},
     "output_type": "execute_result"
    }
   ],
   "source": [
    "char_to_num(['a', 'd', 'i']), num_to_char([1, 4, 9])"
   ]
  },
  {
   "cell_type": "code",
   "execution_count": 11,
   "id": "b3b81e37-ca05-43af-aae6-728296e03ee5",
   "metadata": {},
   "outputs": [],
   "source": [
    "def load_alignments(path: str) -> List[str]:\n",
    "    with open(path, 'r') as f:\n",
    "        lines = f.readlines()\n",
    "    tokens = []\n",
    "    for line in lines:\n",
    "        line = line.split()\n",
    "        if line[2] != 'sil':\n",
    "            tokens = [*tokens, ' ', line[2]]\n",
    "    return char_to_num(tf.reshape(tf.strings.unicode_split(tokens, input_encoding='UTF-8'), (-1)))[1:]"
   ]
  },
  {
   "cell_type": "code",
   "execution_count": 12,
   "id": "4d1563d8-f9d4-4d13-999f-0c79ee8840e0",
   "metadata": {},
   "outputs": [],
   "source": [
    "def load_data(path: str):\n",
    "    path = bytes.decode(path.numpy())\n",
    "    file_name = path.split('/')[-1].split('.')[0]\n",
    "    video_path = os.path.join('data','s1', f'{file_name}.mpg')\n",
    "    alignment_path = os.path.join('data', 'alignments', 's1', f'{file_name}.align')\n",
    "    frames = load_video(video_path)\n",
    "    alignments = load_alignments(alignment_path)\n",
    "\n",
    "    return frames, alignments"
   ]
  },
  {
   "cell_type": "code",
   "execution_count": 13,
   "id": "88c2c95f-27ef-41ef-8077-4e7f511075b8",
   "metadata": {},
   "outputs": [],
   "source": [
    "test_path = 'data/s1/lgbf8n.mpg'"
   ]
  },
  {
   "cell_type": "code",
   "execution_count": 14,
   "id": "bd91a1cb-7312-40f4-9d53-71dc6458e050",
   "metadata": {},
   "outputs": [
    {
     "data": {
      "text/plain": [
       "'data/s1/lgbf8n.mpg'"
      ]
     },
     "execution_count": 14,
     "metadata": {},
     "output_type": "execute_result"
    }
   ],
   "source": [
    "bytes.decode(tf.convert_to_tensor(test_path).numpy())"
   ]
  },
  {
   "cell_type": "code",
   "execution_count": 15,
   "id": "76ad962f-7584-4c73-8874-edb934b56e26",
   "metadata": {},
   "outputs": [
    {
     "data": {
      "text/plain": [
       "'lgbf8n'"
      ]
     },
     "execution_count": 15,
     "metadata": {},
     "output_type": "execute_result"
    }
   ],
   "source": [
    "tf.convert_to_tensor(test_path).numpy().decode('utf-8').split('/')[-1].split('.')[0]"
   ]
  },
  {
   "cell_type": "code",
   "execution_count": 16,
   "id": "becd996d-0ea7-4541-a90b-684133d02d77",
   "metadata": {
    "scrolled": true
   },
   "outputs": [],
   "source": [
    "frames, alignments = load_data(tf.convert_to_tensor(test_path))"
   ]
  },
  {
   "cell_type": "code",
   "execution_count": 17,
   "id": "fcebafd6-e46e-4084-97ca-72ba23d4317e",
   "metadata": {
    "scrolled": true
   },
   "outputs": [
    {
     "data": {
      "text/plain": [
       "<tf.Tensor: shape=(75, 46, 140, 1), dtype=float32, numpy=\n",
       "array([[[[10.348085  ],\n",
       "         [10.348085  ],\n",
       "         [10.348085  ],\n",
       "         ...,\n",
       "         [10.348085  ],\n",
       "         [10.348085  ],\n",
       "         [10.348085  ]],\n",
       "\n",
       "        [[10.348085  ],\n",
       "         [10.348085  ],\n",
       "         [10.348085  ],\n",
       "         ...,\n",
       "         [10.348085  ],\n",
       "         [10.348085  ],\n",
       "         [10.348085  ]],\n",
       "\n",
       "        [[10.348085  ],\n",
       "         [10.348085  ],\n",
       "         [10.348085  ],\n",
       "         ...,\n",
       "         [10.348085  ],\n",
       "         [10.348085  ],\n",
       "         [10.348085  ]],\n",
       "\n",
       "        ...,\n",
       "\n",
       "        [[10.348085  ],\n",
       "         [10.348085  ],\n",
       "         [10.348085  ],\n",
       "         ...,\n",
       "         [10.348085  ],\n",
       "         [10.348085  ],\n",
       "         [10.348085  ]],\n",
       "\n",
       "        [[10.348085  ],\n",
       "         [10.348085  ],\n",
       "         [10.348085  ],\n",
       "         ...,\n",
       "         [10.348085  ],\n",
       "         [10.348085  ],\n",
       "         [10.348085  ]],\n",
       "\n",
       "        [[10.348085  ],\n",
       "         [10.348085  ],\n",
       "         [10.348085  ],\n",
       "         ...,\n",
       "         [10.348085  ],\n",
       "         [10.348085  ],\n",
       "         [10.348085  ]]],\n",
       "\n",
       "\n",
       "       [[[10.3061905 ],\n",
       "         [10.3061905 ],\n",
       "         [10.3061905 ],\n",
       "         ...,\n",
       "         [10.3061905 ],\n",
       "         [10.3061905 ],\n",
       "         [10.3061905 ]],\n",
       "\n",
       "        [[10.3061905 ],\n",
       "         [10.3061905 ],\n",
       "         [10.3061905 ],\n",
       "         ...,\n",
       "         [10.3061905 ],\n",
       "         [10.3061905 ],\n",
       "         [10.3061905 ]],\n",
       "\n",
       "        [[10.264295  ],\n",
       "         [10.264295  ],\n",
       "         [10.264295  ],\n",
       "         ...,\n",
       "         [10.264295  ],\n",
       "         [10.2224    ],\n",
       "         [10.2224    ]],\n",
       "\n",
       "        ...,\n",
       "\n",
       "        [[10.3061905 ],\n",
       "         [10.3061905 ],\n",
       "         [10.3061905 ],\n",
       "         ...,\n",
       "         [10.3061905 ],\n",
       "         [10.3061905 ],\n",
       "         [10.3061905 ]],\n",
       "\n",
       "        [[10.3061905 ],\n",
       "         [10.3061905 ],\n",
       "         [10.3061905 ],\n",
       "         ...,\n",
       "         [10.3061905 ],\n",
       "         [10.3061905 ],\n",
       "         [10.3061905 ]],\n",
       "\n",
       "        [[10.3061905 ],\n",
       "         [10.3061905 ],\n",
       "         [10.3061905 ],\n",
       "         ...,\n",
       "         [10.3061905 ],\n",
       "         [10.3061905 ],\n",
       "         [10.3061905 ]]],\n",
       "\n",
       "\n",
       "       [[[10.264295  ],\n",
       "         [10.264295  ],\n",
       "         [10.264295  ],\n",
       "         ...,\n",
       "         [10.557561  ],\n",
       "         [10.683246  ],\n",
       "         [10.641351  ]],\n",
       "\n",
       "        [[10.264295  ],\n",
       "         [10.264295  ],\n",
       "         [10.264295  ],\n",
       "         ...,\n",
       "         [10.47377   ],\n",
       "         [10.557561  ],\n",
       "         [10.557561  ]],\n",
       "\n",
       "        [[10.264295  ],\n",
       "         [10.264295  ],\n",
       "         [10.3061905 ],\n",
       "         ...,\n",
       "         [10.515666  ],\n",
       "         [10.431875  ],\n",
       "         [10.431875  ]],\n",
       "\n",
       "        ...,\n",
       "\n",
       "        [[ 0.79600656],\n",
       "         [ 0.79600656],\n",
       "         [ 0.7122164 ],\n",
       "         ...,\n",
       "         [10.3061905 ],\n",
       "         [10.3061905 ],\n",
       "         [10.3061905 ]],\n",
       "\n",
       "        [[ 1.005482  ],\n",
       "         [ 1.005482  ],\n",
       "         [ 0.96358687],\n",
       "         ...,\n",
       "         [10.3061905 ],\n",
       "         [10.3061905 ],\n",
       "         [10.3061905 ]],\n",
       "\n",
       "        [[ 1.005482  ],\n",
       "         [ 1.005482  ],\n",
       "         [ 0.96358687],\n",
       "         ...,\n",
       "         [10.3061905 ],\n",
       "         [10.3061905 ],\n",
       "         [10.3061905 ]]],\n",
       "\n",
       "\n",
       "       ...,\n",
       "\n",
       "\n",
       "       [[[ 1.4244328 ],\n",
       "         [ 1.4244328 ],\n",
       "         [ 1.5082229 ],\n",
       "         ...,\n",
       "         [ 0.        ],\n",
       "         [ 0.04189508],\n",
       "         [ 0.04189508]],\n",
       "\n",
       "        [[ 1.4244328 ],\n",
       "         [ 1.4244328 ],\n",
       "         [ 1.5082229 ],\n",
       "         ...,\n",
       "         [ 0.        ],\n",
       "         [ 0.04189508],\n",
       "         [ 0.04189508]],\n",
       "\n",
       "        [[ 1.4244328 ],\n",
       "         [ 1.4244328 ],\n",
       "         [ 1.4244328 ],\n",
       "         ...,\n",
       "         [ 0.        ],\n",
       "         [ 0.        ],\n",
       "         [ 0.        ]],\n",
       "\n",
       "        ...,\n",
       "\n",
       "        [[ 0.96358687],\n",
       "         [ 0.96358687],\n",
       "         [ 0.96358687],\n",
       "         ...,\n",
       "         [10.38998   ],\n",
       "         [10.38998   ],\n",
       "         [10.38998   ]],\n",
       "\n",
       "        [[ 0.96358687],\n",
       "         [ 0.96358687],\n",
       "         [ 0.96358687],\n",
       "         ...,\n",
       "         [10.431875  ],\n",
       "         [10.38998   ],\n",
       "         [10.38998   ]],\n",
       "\n",
       "        [[ 0.96358687],\n",
       "         [ 0.96358687],\n",
       "         [ 0.96358687],\n",
       "         ...,\n",
       "         [10.431875  ],\n",
       "         [10.38998   ],\n",
       "         [10.38998   ]]],\n",
       "\n",
       "\n",
       "       [[[ 1.5082229 ],\n",
       "         [ 1.5082229 ],\n",
       "         [ 1.5082229 ],\n",
       "         ...,\n",
       "         [ 0.        ],\n",
       "         [ 0.        ],\n",
       "         [ 0.        ]],\n",
       "\n",
       "        [[ 1.4244328 ],\n",
       "         [ 1.4244328 ],\n",
       "         [ 1.4244328 ],\n",
       "         ...,\n",
       "         [ 0.        ],\n",
       "         [ 0.        ],\n",
       "         [ 0.        ]],\n",
       "\n",
       "        [[ 1.4244328 ],\n",
       "         [ 1.4244328 ],\n",
       "         [ 1.4244328 ],\n",
       "         ...,\n",
       "         [ 0.        ],\n",
       "         [ 0.        ],\n",
       "         [ 0.        ]],\n",
       "\n",
       "        ...,\n",
       "\n",
       "        [[ 0.96358687],\n",
       "         [ 0.96358687],\n",
       "         [ 0.96358687],\n",
       "         ...,\n",
       "         [10.38998   ],\n",
       "         [10.38998   ],\n",
       "         [10.38998   ]],\n",
       "\n",
       "        [[ 1.005482  ],\n",
       "         [ 1.005482  ],\n",
       "         [ 1.005482  ],\n",
       "         ...,\n",
       "         [10.47377   ],\n",
       "         [10.38998   ],\n",
       "         [10.38998   ]],\n",
       "\n",
       "        [[ 1.005482  ],\n",
       "         [ 1.005482  ],\n",
       "         [ 1.005482  ],\n",
       "         ...,\n",
       "         [10.47377   ],\n",
       "         [10.38998   ],\n",
       "         [10.38998   ]]],\n",
       "\n",
       "\n",
       "       [[[ 1.5082229 ],\n",
       "         [ 1.5082229 ],\n",
       "         [ 1.5082229 ],\n",
       "         ...,\n",
       "         [10.683246  ],\n",
       "         [10.683246  ],\n",
       "         [10.683246  ]],\n",
       "\n",
       "        [[ 1.4244328 ],\n",
       "         [ 1.4244328 ],\n",
       "         [ 1.4244328 ],\n",
       "         ...,\n",
       "         [10.683246  ],\n",
       "         [10.683246  ],\n",
       "         [10.683246  ]],\n",
       "\n",
       "        [[ 1.4244328 ],\n",
       "         [ 1.4244328 ],\n",
       "         [ 1.4244328 ],\n",
       "         ...,\n",
       "         [ 0.        ],\n",
       "         [ 0.        ],\n",
       "         [ 0.        ]],\n",
       "\n",
       "        ...,\n",
       "\n",
       "        [[ 0.96358687],\n",
       "         [ 0.96358687],\n",
       "         [ 0.96358687],\n",
       "         ...,\n",
       "         [10.38998   ],\n",
       "         [10.38998   ],\n",
       "         [10.38998   ]],\n",
       "\n",
       "        [[ 1.005482  ],\n",
       "         [ 1.005482  ],\n",
       "         [ 1.005482  ],\n",
       "         ...,\n",
       "         [10.431875  ],\n",
       "         [10.38998   ],\n",
       "         [10.38998   ]],\n",
       "\n",
       "        [[ 1.005482  ],\n",
       "         [ 1.005482  ],\n",
       "         [ 1.005482  ],\n",
       "         ...,\n",
       "         [10.431875  ],\n",
       "         [10.38998   ],\n",
       "         [10.38998   ]]]], dtype=float32)>"
      ]
     },
     "execution_count": 17,
     "metadata": {},
     "output_type": "execute_result"
    }
   ],
   "source": [
    "frames"
   ]
  },
  {
   "cell_type": "code",
   "execution_count": 18,
   "id": "98ada997-77da-45fd-8f0e-a22d7132b208",
   "metadata": {},
   "outputs": [
    {
     "data": {
      "text/plain": [
       "<tf.Tensor: shape=(24,), dtype=int64, numpy=\n",
       "array([12,  1, 25, 39,  7, 18,  5,  5, 14, 39,  2, 25, 39,  6, 39,  5,  9,\n",
       "        7,  8, 20, 39, 14, 15, 23])>"
      ]
     },
     "execution_count": 18,
     "metadata": {},
     "output_type": "execute_result"
    }
   ],
   "source": [
    "alignments"
   ]
  },
  {
   "cell_type": "code",
   "execution_count": 19,
   "id": "0cece7c0-e422-49aa-8479-40852b36023a",
   "metadata": {},
   "outputs": [
    {
     "data": {
      "text/plain": [
       "<tf.Tensor: shape=(), dtype=string, numpy=b'lay green by f eight now'>"
      ]
     },
     "execution_count": 19,
     "metadata": {},
     "output_type": "execute_result"
    }
   ],
   "source": [
    "tf.strings.reduce_join([bytes.decode(x) for x in num_to_char(alignments.numpy()).numpy()])"
   ]
  },
  {
   "cell_type": "code",
   "execution_count": 20,
   "id": "a491a0a0-356a-4a37-9dbf-64cd9a84b46e",
   "metadata": {},
   "outputs": [
    {
     "data": {
      "text/plain": [
       "<matplotlib.image.AxesImage at 0x752e24043610>"
      ]
     },
     "execution_count": 20,
     "metadata": {},
     "output_type": "execute_result"
    },
    {
     "data": {
      "image/png": "[encoded data removed]",
      "text/plain": [
       "<Figure size 640x480 with 1 Axes>"
      ]
     },
     "metadata": {},
     "output_type": "display_data"
    }
   ],
   "source": [
    "plt.imshow(frames[40])"
   ]
  },
  {
   "cell_type": "code",
   "execution_count": 21,
   "id": "a8f9b406-82d9-4fa8-8811-5ab5ba027522",
   "metadata": {},
   "outputs": [],
   "source": [
    "def mappable_function(path: tf.Tensor):\n",
    "    video, label = tf.py_function(load_data, [path], (tf.float32, tf.int64))\n",
    "\n",
    "    # Set shapes for downstream operations (VERY important)\n",
    "    video.set_shape((75, None, None, None))  # Time, H, W, C\n",
    "    label.set_shape((40,))                   # Label length\n",
    "\n",
    "    return video, label"
   ]
  },
  {
   "cell_type": "markdown",
   "id": "1a0f3798-fac8-472c-a1fd-3964ead58daf",
   "metadata": {},
   "source": [
    "### Create Data Pipeline"
   ]
  },
  {
   "cell_type": "code",
   "execution_count": 22,
   "id": "66a2786d-9597-4361-b1ca-df6752f7cc0c",
   "metadata": {},
   "outputs": [],
   "source": [
    "# Shuffle dataset\n",
    "data = tf.data.Dataset.list_files('./data/s1/*.mpg')\n",
    "data = data.shuffle(500, reshuffle_each_iteration=False)\n",
    "\n",
    "# Map to (video, label)\n",
    "data = data.map(mappable_function, num_parallel_calls=tf.data.AUTOTUNE)\n",
    "\n",
    "# Apply padding and batching\n",
    "data = data.padded_batch(2, padded_shapes=([75, None, None, None], [40]))\n",
    "\n",
    "# Prefetch for performance\n",
    "data = data.prefetch(tf.data.AUTOTUNE)\n",
    "\n",
    "# Compute split sizes\n",
    "train_size = int(0.8 * 32)  # Example: 80% train\n",
    "train = data.take(train_size)\n",
    "test = data.skip(train_size)"
   ]
  },
  {
   "cell_type": "code",
   "execution_count": 23,
   "id": "9a9d90ab-29a1-438a-ba52-c5bbe0876b2a",
   "metadata": {},
   "outputs": [
    {
     "data": {
      "text/plain": [
       "(25, 7, 32)"
      ]
     },
     "execution_count": 23,
     "metadata": {},
     "output_type": "execute_result"
    }
   ],
   "source": [
    "len(train), len(test), len(data)"
   ]
  },
  {
   "cell_type": "code",
   "execution_count": 24,
   "id": "ea7e9142-4a18-41ab-af6a-5aa452544fb2",
   "metadata": {
    "scrolled": true
   },
   "outputs": [
    {
     "name": "stderr",
     "output_type": "stream",
     "text": [
      "2025-07-20 09:29:07.383542: I tensorflow/core/common_runtime/executor.cc:1197] [/device:CPU:0] (DEBUG INFO) Executor start aborting (this does not indicate an error and you can ignore this message): INVALID_ARGUMENT: You must feed a value for placeholder tensor 'Placeholder/_0' with dtype string and shape [63]\n",
      "\t [[{{node Placeholder/_0}}]]\n",
      "2025-07-20 09:29:07.384058: I tensorflow/core/common_runtime/executor.cc:1197] [/device:CPU:0] (DEBUG INFO) Executor start aborting (this does not indicate an error and you can ignore this message): INVALID_ARGUMENT: You must feed a value for placeholder tensor 'Placeholder/_0' with dtype string and shape [63]\n",
      "\t [[{{node Placeholder/_0}}]]\n"
     ]
    }
   ],
   "source": [
    "frames, alignments = data.as_numpy_iterator().next()"
   ]
  },
  {
   "cell_type": "code",
   "execution_count": 25,
   "id": "d34185df-69e3-4957-bdc4-e37b92d5daea",
   "metadata": {},
   "outputs": [
    {
     "data": {
      "text/plain": [
       "2"
      ]
     },
     "execution_count": 25,
     "metadata": {},
     "output_type": "execute_result"
    }
   ],
   "source": [
    "len(frames)"
   ]
  },
  {
   "cell_type": "code",
   "execution_count": 26,
   "id": "c7ef44a9-84cf-48df-842c-e3fae7193695",
   "metadata": {},
   "outputs": [
    {
     "data": {
      "text/plain": [
       "array([[16, 12,  1,  3,  5, 39,  2, 12, 21,  5, 39,  9, 14, 39,  9, 39,\n",
       "        20, 23, 15, 39, 16, 12,  5,  1, 19,  5,  0,  0,  0,  0,  0,  0,\n",
       "         0,  0,  0,  0,  0,  0,  0,  0],\n",
       "       [12,  1, 25, 39,  7, 18,  5,  5, 14, 39,  2, 25, 39,  6, 39, 14,\n",
       "         9, 14,  5, 39, 19, 15, 15, 14,  0,  0,  0,  0,  0,  0,  0,  0,\n",
       "         0,  0,  0,  0,  0,  0,  0,  0]])"
      ]
     },
     "execution_count": 26,
     "metadata": {},
     "output_type": "execute_result"
    }
   ],
   "source": [
    "alignments"
   ]
  },
  {
   "cell_type": "code",
   "execution_count": 27,
   "id": "db3ee21f-7c1c-4c79-9b81-6ccc478f0954",
   "metadata": {},
   "outputs": [],
   "source": [
    "sample = data.as_numpy_iterator()"
   ]
  },
  {
   "cell_type": "code",
   "execution_count": 28,
   "id": "33305ead-05b6-4a20-9289-956d027069b5",
   "metadata": {
    "scrolled": true
   },
   "outputs": [
    {
     "data": {
      "text/plain": [
       "array([[[[[ 1.5239341 ],\n",
       "          [ 1.5239341 ],\n",
       "          [ 1.5651215 ],\n",
       "          ...,\n",
       "          [ 0.04118741],\n",
       "          [ 0.08237482],\n",
       "          [ 0.08237482]],\n",
       "\n",
       "         [[ 1.5239341 ],\n",
       "          [ 1.5239341 ],\n",
       "          [ 1.5651215 ],\n",
       "          ...,\n",
       "          [ 0.04118741],\n",
       "          [ 0.08237482],\n",
       "          [ 0.08237482]],\n",
       "\n",
       "         [[ 1.4415593 ],\n",
       "          [ 1.4415593 ],\n",
       "          [ 1.4415593 ],\n",
       "          ...,\n",
       "          [ 0.04118741],\n",
       "          [ 0.        ],\n",
       "          [ 0.        ]],\n",
       "\n",
       "         ...,\n",
       "\n",
       "         [[ 0.9884978 ],\n",
       "          [ 0.9884978 ],\n",
       "          [ 0.9884978 ],\n",
       "          ...,\n",
       "          [10.296852  ],\n",
       "          [10.296852  ],\n",
       "          [10.296852  ]],\n",
       "\n",
       "         [[ 0.9884978 ],\n",
       "          [ 0.9884978 ],\n",
       "          [ 0.9884978 ],\n",
       "          ...,\n",
       "          [10.255665  ],\n",
       "          [10.255665  ],\n",
       "          [10.255665  ]],\n",
       "\n",
       "         [[ 0.9884978 ],\n",
       "          [ 0.9884978 ],\n",
       "          [ 0.9884978 ],\n",
       "          ...,\n",
       "          [10.255665  ],\n",
       "          [10.255665  ],\n",
       "          [10.255665  ]]],\n",
       "\n",
       "\n",
       "        [[[ 1.4827467 ],\n",
       "          [ 1.4827467 ],\n",
       "          [ 1.4827467 ],\n",
       "          ...,\n",
       "          [ 0.        ],\n",
       "          [ 0.        ],\n",
       "          [ 0.        ]],\n",
       "\n",
       "         [[ 1.4827467 ],\n",
       "          [ 1.4827467 ],\n",
       "          [ 1.4827467 ],\n",
       "          ...,\n",
       "          [ 0.        ],\n",
       "          [ 0.        ],\n",
       "          [ 0.        ]],\n",
       "\n",
       "         [[ 1.4415593 ],\n",
       "          [ 1.4415593 ],\n",
       "          [ 1.4827467 ],\n",
       "          ...,\n",
       "          [ 0.        ],\n",
       "          [ 0.        ],\n",
       "          [ 0.        ]],\n",
       "\n",
       "         ...,\n",
       "\n",
       "         [[ 0.9884978 ],\n",
       "          [ 0.9884978 ],\n",
       "          [ 0.9473104 ],\n",
       "          ...,\n",
       "          [10.338039  ],\n",
       "          [10.296852  ],\n",
       "          [10.296852  ]],\n",
       "\n",
       "         [[ 0.9884978 ],\n",
       "          [ 0.9884978 ],\n",
       "          [ 0.9473104 ],\n",
       "          ...,\n",
       "          [10.296852  ],\n",
       "          [10.255665  ],\n",
       "          [10.255665  ]],\n",
       "\n",
       "         [[ 0.9884978 ],\n",
       "          [ 0.9884978 ],\n",
       "          [ 0.9473104 ],\n",
       "          ...,\n",
       "          [10.296852  ],\n",
       "          [10.255665  ],\n",
       "          [10.255665  ]]],\n",
       "\n",
       "\n",
       "        [[[ 1.4827467 ],\n",
       "          [ 1.4827467 ],\n",
       "          [ 1.4827467 ],\n",
       "          ...,\n",
       "          [ 0.        ],\n",
       "          [ 0.        ],\n",
       "          [ 0.        ]],\n",
       "\n",
       "         [[ 1.4827467 ],\n",
       "          [ 1.4827467 ],\n",
       "          [ 1.4827467 ],\n",
       "          ...,\n",
       "          [ 0.        ],\n",
       "          [ 0.        ],\n",
       "          [ 0.        ]],\n",
       "\n",
       "         [[ 1.4415593 ],\n",
       "          [ 1.4415593 ],\n",
       "          [ 1.4003719 ],\n",
       "          ...,\n",
       "          [ 0.        ],\n",
       "          [ 0.        ],\n",
       "          [ 0.        ]],\n",
       "\n",
       "         ...,\n",
       "\n",
       "         [[ 0.9884978 ],\n",
       "          [ 0.9884978 ],\n",
       "          [ 0.9473104 ],\n",
       "          ...,\n",
       "          [10.338039  ],\n",
       "          [10.296852  ],\n",
       "          [10.296852  ]],\n",
       "\n",
       "         [[ 0.9884978 ],\n",
       "          [ 0.9884978 ],\n",
       "          [ 0.9473104 ],\n",
       "          ...,\n",
       "          [10.296852  ],\n",
       "          [10.255665  ],\n",
       "          [10.255665  ]],\n",
       "\n",
       "         [[ 0.9473104 ],\n",
       "          [ 0.9473104 ],\n",
       "          [ 0.9473104 ],\n",
       "          ...,\n",
       "          [10.296852  ],\n",
       "          [10.255665  ],\n",
       "          [10.255665  ]]],\n",
       "\n",
       "\n",
       "        ...,\n",
       "\n",
       "\n",
       "        [[[ 1.4003719 ],\n",
       "          [ 1.4003719 ],\n",
       "          [ 1.4415593 ],\n",
       "          ...,\n",
       "          [ 0.04118741],\n",
       "          [10.5027895 ],\n",
       "          [10.5027895 ]],\n",
       "\n",
       "         [[ 1.4003719 ],\n",
       "          [ 1.3591845 ],\n",
       "          [ 1.4003719 ],\n",
       "          ...,\n",
       "          [ 0.04118741],\n",
       "          [10.5027895 ],\n",
       "          [10.5027895 ]],\n",
       "\n",
       "         [[ 1.4827467 ],\n",
       "          [ 1.4827467 ],\n",
       "          [ 1.4827467 ],\n",
       "          ...,\n",
       "          [10.5027895 ],\n",
       "          [10.5027895 ],\n",
       "          [10.5027895 ]],\n",
       "\n",
       "         ...,\n",
       "\n",
       "         [[ 1.0296853 ],\n",
       "          [ 0.9884978 ],\n",
       "          [ 0.9473104 ],\n",
       "          ...,\n",
       "          [10.296852  ],\n",
       "          [10.296852  ],\n",
       "          [10.296852  ]],\n",
       "\n",
       "         [[ 1.0296853 ],\n",
       "          [ 0.9884978 ],\n",
       "          [ 0.9473104 ],\n",
       "          ...,\n",
       "          [10.296852  ],\n",
       "          [10.296852  ],\n",
       "          [10.255665  ]],\n",
       "\n",
       "         [[ 1.0296853 ],\n",
       "          [ 0.9884978 ],\n",
       "          [ 0.9473104 ],\n",
       "          ...,\n",
       "          [10.296852  ],\n",
       "          [10.255665  ],\n",
       "          [10.255665  ]]],\n",
       "\n",
       "\n",
       "        [[[ 1.4827467 ],\n",
       "          [ 1.4827467 ],\n",
       "          [ 1.4415593 ],\n",
       "          ...,\n",
       "          [ 0.        ],\n",
       "          [ 0.04118741],\n",
       "          [ 0.04118741]],\n",
       "\n",
       "         [[ 1.4827467 ],\n",
       "          [ 1.4415593 ],\n",
       "          [ 1.4003719 ],\n",
       "          ...,\n",
       "          [ 0.        ],\n",
       "          [ 0.04118741],\n",
       "          [ 0.04118741]],\n",
       "\n",
       "         [[ 1.4415593 ],\n",
       "          [ 1.4415593 ],\n",
       "          [ 1.4415593 ],\n",
       "          ...,\n",
       "          [ 0.        ],\n",
       "          [ 0.04118741],\n",
       "          [ 0.04118741]],\n",
       "\n",
       "         ...,\n",
       "\n",
       "         [[ 0.9884978 ],\n",
       "          [ 0.9884978 ],\n",
       "          [ 1.0296853 ],\n",
       "          ...,\n",
       "          [10.255665  ],\n",
       "          [10.255665  ],\n",
       "          [10.255665  ]],\n",
       "\n",
       "         [[ 0.9884978 ],\n",
       "          [ 0.9884978 ],\n",
       "          [ 1.0296853 ],\n",
       "          ...,\n",
       "          [10.255665  ],\n",
       "          [10.255665  ],\n",
       "          [10.214478  ]],\n",
       "\n",
       "         [[ 0.9884978 ],\n",
       "          [ 0.9884978 ],\n",
       "          [ 0.9884978 ],\n",
       "          ...,\n",
       "          [10.255665  ],\n",
       "          [10.214478  ],\n",
       "          [10.214478  ]]],\n",
       "\n",
       "\n",
       "        [[[ 1.5239341 ],\n",
       "          [ 1.5239341 ],\n",
       "          [ 1.4415593 ],\n",
       "          ...,\n",
       "          [ 0.        ],\n",
       "          [ 0.04118741],\n",
       "          [ 0.04118741]],\n",
       "\n",
       "         [[ 1.5239341 ],\n",
       "          [ 1.4827467 ],\n",
       "          [ 1.4003719 ],\n",
       "          ...,\n",
       "          [ 0.        ],\n",
       "          [ 0.04118741],\n",
       "          [ 0.04118741]],\n",
       "\n",
       "         [[ 1.4415593 ],\n",
       "          [ 1.4415593 ],\n",
       "          [ 1.4003719 ],\n",
       "          ...,\n",
       "          [ 0.        ],\n",
       "          [ 0.04118741],\n",
       "          [ 0.04118741]],\n",
       "\n",
       "         ...,\n",
       "\n",
       "         [[ 1.0296853 ],\n",
       "          [ 1.0296853 ],\n",
       "          [ 1.0708727 ],\n",
       "          ...,\n",
       "          [10.255665  ],\n",
       "          [10.255665  ],\n",
       "          [10.214478  ]],\n",
       "\n",
       "         [[ 1.0296853 ],\n",
       "          [ 1.0296853 ],\n",
       "          [ 1.0708727 ],\n",
       "          ...,\n",
       "          [10.255665  ],\n",
       "          [10.255665  ],\n",
       "          [10.214478  ]],\n",
       "\n",
       "         [[ 1.0296853 ],\n",
       "          [ 1.0296853 ],\n",
       "          [ 1.0296853 ],\n",
       "          ...,\n",
       "          [10.255665  ],\n",
       "          [10.214478  ],\n",
       "          [10.214478  ]]]],\n",
       "\n",
       "\n",
       "\n",
       "       [[[[ 1.3169675 ],\n",
       "          [ 1.3545952 ],\n",
       "          [ 0.75255287],\n",
       "          ...,\n",
       "          [ 0.30102116],\n",
       "          [ 0.3386488 ],\n",
       "          [ 0.3386488 ]],\n",
       "\n",
       "         [[ 1.1664569 ],\n",
       "          [ 1.2793399 ],\n",
       "          [ 0.82780814],\n",
       "          ...,\n",
       "          [ 0.30102116],\n",
       "          [ 0.3386488 ],\n",
       "          [ 0.3386488 ]],\n",
       "\n",
       "         [[ 1.467478  ],\n",
       "          [ 1.5051057 ],\n",
       "          [ 1.2793399 ],\n",
       "          ...,\n",
       "          [ 0.41390407],\n",
       "          [ 0.37627643],\n",
       "          [ 0.37627643]],\n",
       "\n",
       "         ...,\n",
       "\n",
       "         [[ 1.053574  ],\n",
       "          [ 1.053574  ],\n",
       "          [ 1.053574  ],\n",
       "          ...,\n",
       "          [ 0.07525529],\n",
       "          [ 0.07525529],\n",
       "          [ 0.07525529]],\n",
       "\n",
       "         [[ 1.0159464 ],\n",
       "          [ 1.0159464 ],\n",
       "          [ 1.0159464 ],\n",
       "          ...,\n",
       "          [ 0.07525529],\n",
       "          [ 0.07525529],\n",
       "          [ 0.07525529]],\n",
       "\n",
       "         [[ 1.0159464 ],\n",
       "          [ 1.0159464 ],\n",
       "          [ 1.0159464 ],\n",
       "          ...,\n",
       "          [ 0.07525529],\n",
       "          [ 0.07525529],\n",
       "          [ 0.03762764]]],\n",
       "\n",
       "\n",
       "        [[[ 1.2040846 ],\n",
       "          [ 1.2417122 ],\n",
       "          [ 0.94069105],\n",
       "          ...,\n",
       "          [ 0.2633935 ],\n",
       "          [ 0.30102116],\n",
       "          [ 0.30102116]],\n",
       "\n",
       "         [[ 1.1664569 ],\n",
       "          [ 1.3169675 ],\n",
       "          [ 0.82780814],\n",
       "          ...,\n",
       "          [ 0.2633935 ],\n",
       "          [ 0.30102116],\n",
       "          [ 0.30102116]],\n",
       "\n",
       "         [[ 1.4298505 ],\n",
       "          [ 1.3545952 ],\n",
       "          [ 1.2417122 ],\n",
       "          ...,\n",
       "          [ 0.37627643],\n",
       "          [ 0.37627643],\n",
       "          [ 0.37627643]],\n",
       "\n",
       "         ...,\n",
       "\n",
       "         [[ 1.053574  ],\n",
       "          [ 1.053574  ],\n",
       "          [ 1.053574  ],\n",
       "          ...,\n",
       "          [ 0.07525529],\n",
       "          [ 0.07525529],\n",
       "          [ 0.03762764]],\n",
       "\n",
       "         [[ 1.0159464 ],\n",
       "          [ 1.0159464 ],\n",
       "          [ 1.0159464 ],\n",
       "          ...,\n",
       "          [ 0.07525529],\n",
       "          [ 0.03762764],\n",
       "          [ 0.03762764]],\n",
       "\n",
       "         [[ 1.0159464 ],\n",
       "          [ 1.0159464 ],\n",
       "          [ 1.0159464 ],\n",
       "          ...,\n",
       "          [ 0.03762764],\n",
       "          [ 0.03762764],\n",
       "          [ 0.03762764]]],\n",
       "\n",
       "\n",
       "        [[[ 1.3922228 ],\n",
       "          [ 1.3922228 ],\n",
       "          [ 0.9783187 ],\n",
       "          ...,\n",
       "          [ 0.2633935 ],\n",
       "          [ 0.30102116],\n",
       "          [ 0.30102116]],\n",
       "\n",
       "         [[ 1.2417122 ],\n",
       "          [ 1.3922228 ],\n",
       "          [ 0.82780814],\n",
       "          ...,\n",
       "          [ 0.2633935 ],\n",
       "          [ 0.30102116],\n",
       "          [ 0.30102116]],\n",
       "\n",
       "         [[ 1.3922228 ],\n",
       "          [ 1.3545952 ],\n",
       "          [ 1.2417122 ],\n",
       "          ...,\n",
       "          [ 0.3386488 ],\n",
       "          [ 0.3386488 ],\n",
       "          [ 0.3386488 ]],\n",
       "\n",
       "         ...,\n",
       "\n",
       "         [[ 1.0912017 ],\n",
       "          [ 1.0912017 ],\n",
       "          [ 1.053574  ],\n",
       "          ...,\n",
       "          [ 0.07525529],\n",
       "          [ 0.07525529],\n",
       "          [ 0.03762764]],\n",
       "\n",
       "         [[ 1.053574  ],\n",
       "          [ 1.053574  ],\n",
       "          [ 1.0159464 ],\n",
       "          ...,\n",
       "          [ 0.07525529],\n",
       "          [ 0.03762764],\n",
       "          [ 0.03762764]],\n",
       "\n",
       "         [[ 1.053574  ],\n",
       "          [ 1.053574  ],\n",
       "          [ 1.0159464 ],\n",
       "          ...,\n",
       "          [ 0.03762764],\n",
       "          [ 0.03762764],\n",
       "          [ 0.03762764]]],\n",
       "\n",
       "\n",
       "        ...,\n",
       "\n",
       "\n",
       "        [[[ 0.9030634 ],\n",
       "          [ 0.82780814],\n",
       "          [ 0.82780814],\n",
       "          ...,\n",
       "          [ 0.37627643],\n",
       "          [ 0.37627643],\n",
       "          [ 0.37627643]],\n",
       "\n",
       "         [[ 0.94069105],\n",
       "          [ 0.82780814],\n",
       "          [ 0.4515317 ],\n",
       "          ...,\n",
       "          [ 0.37627643],\n",
       "          [ 0.37627643],\n",
       "          [ 0.37627643]],\n",
       "\n",
       "         [[ 1.2417122 ],\n",
       "          [ 1.2793399 ],\n",
       "          [ 0.8654358 ],\n",
       "          ...,\n",
       "          [ 0.37627643],\n",
       "          [ 0.3386488 ],\n",
       "          [ 0.2633935 ]],\n",
       "\n",
       "         ...,\n",
       "\n",
       "         [[ 0.9783187 ],\n",
       "          [ 0.9783187 ],\n",
       "          [ 0.9783187 ],\n",
       "          ...,\n",
       "          [ 0.        ],\n",
       "          [ 0.        ],\n",
       "          [ 0.        ]],\n",
       "\n",
       "         [[ 0.9783187 ],\n",
       "          [ 0.9783187 ],\n",
       "          [ 0.9783187 ],\n",
       "          ...,\n",
       "          [ 0.        ],\n",
       "          [ 0.        ],\n",
       "          [ 0.        ]],\n",
       "\n",
       "         [[ 0.9783187 ],\n",
       "          [ 0.9783187 ],\n",
       "          [ 0.9783187 ],\n",
       "          ...,\n",
       "          [ 0.        ],\n",
       "          [ 0.        ],\n",
       "          [ 0.        ]]],\n",
       "\n",
       "\n",
       "        [[[ 1.0159464 ],\n",
       "          [ 0.94069105],\n",
       "          [ 0.8654358 ],\n",
       "          ...,\n",
       "          [ 0.37627643],\n",
       "          [ 0.37627643],\n",
       "          [ 0.37627643]],\n",
       "\n",
       "         [[ 0.94069105],\n",
       "          [ 0.94069105],\n",
       "          [ 0.37627643],\n",
       "          ...,\n",
       "          [ 0.37627643],\n",
       "          [ 0.37627643],\n",
       "          [ 0.37627643]],\n",
       "\n",
       "         [[ 1.1664569 ],\n",
       "          [ 1.2793399 ],\n",
       "          [ 0.9030634 ],\n",
       "          ...,\n",
       "          [ 0.41390407],\n",
       "          [ 0.41390407],\n",
       "          [ 0.37627643]],\n",
       "\n",
       "         ...,\n",
       "\n",
       "         [[ 1.0159464 ],\n",
       "          [ 0.9783187 ],\n",
       "          [ 0.9783187 ],\n",
       "          ...,\n",
       "          [ 0.07525529],\n",
       "          [ 0.07525529],\n",
       "          [ 0.07525529]],\n",
       "\n",
       "         [[ 1.0159464 ],\n",
       "          [ 0.9783187 ],\n",
       "          [ 0.9783187 ],\n",
       "          ...,\n",
       "          [ 0.        ],\n",
       "          [ 0.        ],\n",
       "          [ 0.        ]],\n",
       "\n",
       "         [[ 1.0159464 ],\n",
       "          [ 0.9783187 ],\n",
       "          [ 0.9783187 ],\n",
       "          ...,\n",
       "          [ 0.        ],\n",
       "          [ 0.        ],\n",
       "          [ 0.        ]]],\n",
       "\n",
       "\n",
       "        [[[ 0.9783187 ],\n",
       "          [ 0.94069105],\n",
       "          [ 0.7901805 ],\n",
       "          ...,\n",
       "          [ 0.41390407],\n",
       "          [ 0.41390407],\n",
       "          [ 0.41390407]],\n",
       "\n",
       "         [[ 1.0159464 ],\n",
       "          [ 0.82780814],\n",
       "          [ 0.30102116],\n",
       "          ...,\n",
       "          [ 0.41390407],\n",
       "          [ 0.41390407],\n",
       "          [ 0.41390407]],\n",
       "\n",
       "         [[ 1.2793399 ],\n",
       "          [ 1.2793399 ],\n",
       "          [ 0.7901805 ],\n",
       "          ...,\n",
       "          [ 0.41390407],\n",
       "          [ 0.41390407],\n",
       "          [ 0.37627643]],\n",
       "\n",
       "         ...,\n",
       "\n",
       "         [[ 1.053574  ],\n",
       "          [ 1.0159464 ],\n",
       "          [ 1.0159464 ],\n",
       "          ...,\n",
       "          [ 0.11288293],\n",
       "          [ 0.11288293],\n",
       "          [ 0.11288293]],\n",
       "\n",
       "         [[ 1.053574  ],\n",
       "          [ 1.0159464 ],\n",
       "          [ 0.9783187 ],\n",
       "          ...,\n",
       "          [ 0.03762764],\n",
       "          [ 0.03762764],\n",
       "          [ 0.03762764]],\n",
       "\n",
       "         [[ 1.0159464 ],\n",
       "          [ 0.9783187 ],\n",
       "          [ 0.9783187 ],\n",
       "          ...,\n",
       "          [ 0.        ],\n",
       "          [ 0.        ],\n",
       "          [ 0.        ]]]]], dtype=float32)"
      ]
     },
     "execution_count": 28,
     "metadata": {},
     "output_type": "execute_result"
    }
   ],
   "source": [
    "val = sample.next(); val[0]"
   ]
  },
  {
   "cell_type": "code",
   "execution_count": 29,
   "id": "cca84867-bf8f-4ac1-9d73-c44fa138064f",
   "metadata": {
    "scrolled": true
   },
   "outputs": [
    {
     "data": {
      "text/plain": [
       "array([[[ 1.5239341 ,  1.5239341 ,  1.5651215 , ...,  0.04118741,\n",
       "          0.08237482,  0.08237482],\n",
       "        [ 1.5239341 ,  1.5239341 ,  1.5651215 , ...,  0.04118741,\n",
       "          0.08237482,  0.08237482],\n",
       "        [ 1.4415593 ,  1.4415593 ,  1.4415593 , ...,  0.04118741,\n",
       "          0.        ,  0.        ],\n",
       "        ...,\n",
       "        [ 0.9884978 ,  0.9884978 ,  0.9884978 , ..., 10.296852  ,\n",
       "         10.296852  , 10.296852  ],\n",
       "        [ 0.9884978 ,  0.9884978 ,  0.9884978 , ..., 10.255665  ,\n",
       "         10.255665  , 10.255665  ],\n",
       "        [ 0.9884978 ,  0.9884978 ,  0.9884978 , ..., 10.255665  ,\n",
       "         10.255665  , 10.255665  ]],\n",
       "\n",
       "       [[ 1.4827467 ,  1.4827467 ,  1.4827467 , ...,  0.        ,\n",
       "          0.        ,  0.        ],\n",
       "        [ 1.4827467 ,  1.4827467 ,  1.4827467 , ...,  0.        ,\n",
       "          0.        ,  0.        ],\n",
       "        [ 1.4415593 ,  1.4415593 ,  1.4827467 , ...,  0.        ,\n",
       "          0.        ,  0.        ],\n",
       "        ...,\n",
       "        [ 0.9884978 ,  0.9884978 ,  0.9473104 , ..., 10.338039  ,\n",
       "         10.296852  , 10.296852  ],\n",
       "        [ 0.9884978 ,  0.9884978 ,  0.9473104 , ..., 10.296852  ,\n",
       "         10.255665  , 10.255665  ],\n",
       "        [ 0.9884978 ,  0.9884978 ,  0.9473104 , ..., 10.296852  ,\n",
       "         10.255665  , 10.255665  ]],\n",
       "\n",
       "       [[ 1.4827467 ,  1.4827467 ,  1.4827467 , ...,  0.        ,\n",
       "          0.        ,  0.        ],\n",
       "        [ 1.4827467 ,  1.4827467 ,  1.4827467 , ...,  0.        ,\n",
       "          0.        ,  0.        ],\n",
       "        [ 1.4415593 ,  1.4415593 ,  1.4003719 , ...,  0.        ,\n",
       "          0.        ,  0.        ],\n",
       "        ...,\n",
       "        [ 0.9884978 ,  0.9884978 ,  0.9473104 , ..., 10.338039  ,\n",
       "         10.296852  , 10.296852  ],\n",
       "        [ 0.9884978 ,  0.9884978 ,  0.9473104 , ..., 10.296852  ,\n",
       "         10.255665  , 10.255665  ],\n",
       "        [ 0.9473104 ,  0.9473104 ,  0.9473104 , ..., 10.296852  ,\n",
       "         10.255665  , 10.255665  ]],\n",
       "\n",
       "       ...,\n",
       "\n",
       "       [[ 1.4003719 ,  1.4003719 ,  1.4415593 , ...,  0.04118741,\n",
       "         10.5027895 , 10.5027895 ],\n",
       "        [ 1.4003719 ,  1.3591845 ,  1.4003719 , ...,  0.04118741,\n",
       "         10.5027895 , 10.5027895 ],\n",
       "        [ 1.4827467 ,  1.4827467 ,  1.4827467 , ..., 10.5027895 ,\n",
       "         10.5027895 , 10.5027895 ],\n",
       "        ...,\n",
       "        [ 1.0296853 ,  0.9884978 ,  0.9473104 , ..., 10.296852  ,\n",
       "         10.296852  , 10.296852  ],\n",
       "        [ 1.0296853 ,  0.9884978 ,  0.9473104 , ..., 10.296852  ,\n",
       "         10.296852  , 10.255665  ],\n",
       "        [ 1.0296853 ,  0.9884978 ,  0.9473104 , ..., 10.296852  ,\n",
       "         10.255665  , 10.255665  ]],\n",
       "\n",
       "       [[ 1.4827467 ,  1.4827467 ,  1.4415593 , ...,  0.        ,\n",
       "          0.04118741,  0.04118741],\n",
       "        [ 1.4827467 ,  1.4415593 ,  1.4003719 , ...,  0.        ,\n",
       "          0.04118741,  0.04118741],\n",
       "        [ 1.4415593 ,  1.4415593 ,  1.4415593 , ...,  0.        ,\n",
       "          0.04118741,  0.04118741],\n",
       "        ...,\n",
       "        [ 0.9884978 ,  0.9884978 ,  1.0296853 , ..., 10.255665  ,\n",
       "         10.255665  , 10.255665  ],\n",
       "        [ 0.9884978 ,  0.9884978 ,  1.0296853 , ..., 10.255665  ,\n",
       "         10.255665  , 10.214478  ],\n",
       "        [ 0.9884978 ,  0.9884978 ,  0.9884978 , ..., 10.255665  ,\n",
       "         10.214478  , 10.214478  ]],\n",
       "\n",
       "       [[ 1.5239341 ,  1.5239341 ,  1.4415593 , ...,  0.        ,\n",
       "          0.04118741,  0.04118741],\n",
       "        [ 1.5239341 ,  1.4827467 ,  1.4003719 , ...,  0.        ,\n",
       "          0.04118741,  0.04118741],\n",
       "        [ 1.4415593 ,  1.4415593 ,  1.4003719 , ...,  0.        ,\n",
       "          0.04118741,  0.04118741],\n",
       "        ...,\n",
       "        [ 1.0296853 ,  1.0296853 ,  1.0708727 , ..., 10.255665  ,\n",
       "         10.255665  , 10.214478  ],\n",
       "        [ 1.0296853 ,  1.0296853 ,  1.0708727 , ..., 10.255665  ,\n",
       "         10.255665  , 10.214478  ],\n",
       "        [ 1.0296853 ,  1.0296853 ,  1.0296853 , ..., 10.255665  ,\n",
       "         10.214478  , 10.214478  ]]], dtype=float32)"
      ]
     },
     "execution_count": 29,
     "metadata": {},
     "output_type": "execute_result"
    }
   ],
   "source": [
    "frames = np.squeeze(val[0][0])\n",
    "frames"
   ]
  },
  {
   "cell_type": "code",
   "execution_count": 30,
   "id": "449b10e8-db49-4d39-baf9-fdccefb0c1f8",
   "metadata": {
    "scrolled": true
   },
   "outputs": [
    {
     "data": {
      "text/plain": [
       "array([[[132, 132, 143, ...,  10,  21,  21],\n",
       "        [132, 132, 143, ...,  10,  21,  21],\n",
       "        [111, 111, 111, ...,  10,   0,   0],\n",
       "        ...,\n",
       "        [252, 252, 252, ...,  65,  65,  65],\n",
       "        [252, 252, 252, ...,  55,  55,  55],\n",
       "        [252, 252, 252, ...,  55,  55,  55]],\n",
       "\n",
       "       [[122, 122, 122, ...,   0,   0,   0],\n",
       "        [122, 122, 122, ...,   0,   0,   0],\n",
       "        [111, 111, 122, ...,   0,   0,   0],\n",
       "        ...,\n",
       "        [252, 252, 241, ...,  76,  65,  65],\n",
       "        [252, 252, 241, ...,  65,  55,  55],\n",
       "        [252, 252, 241, ...,  65,  55,  55]],\n",
       "\n",
       "       [[122, 122, 122, ...,   0,   0,   0],\n",
       "        [122, 122, 122, ...,   0,   0,   0],\n",
       "        [111, 111, 101, ...,   0,   0,   0],\n",
       "        ...,\n",
       "        [252, 252, 241, ...,  76,  65,  65],\n",
       "        [252, 252, 241, ...,  65,  55,  55],\n",
       "        [241, 241, 241, ...,  65,  55,  55]],\n",
       "\n",
       "       ...,\n",
       "\n",
       "       [[101, 101, 111, ...,  10, 118, 118],\n",
       "        [101,  90, 101, ...,  10, 118, 118],\n",
       "        [122, 122, 122, ..., 118, 118, 118],\n",
       "        ...,\n",
       "        [  6, 252, 241, ...,  65,  65,  65],\n",
       "        [  6, 252, 241, ...,  65,  65,  55],\n",
       "        [  6, 252, 241, ...,  65,  55,  55]],\n",
       "\n",
       "       [[122, 122, 111, ...,   0,  10,  10],\n",
       "        [122, 111, 101, ...,   0,  10,  10],\n",
       "        [111, 111, 111, ...,   0,  10,  10],\n",
       "        ...,\n",
       "        [252, 252,   6, ...,  55,  55,  55],\n",
       "        [252, 252,   6, ...,  55,  55,  44],\n",
       "        [252, 252, 252, ...,  55,  44,  44]],\n",
       "\n",
       "       [[132, 132, 111, ...,   0,  10,  10],\n",
       "        [132, 122, 101, ...,   0,  10,  10],\n",
       "        [111, 111, 101, ...,   0,  10,  10],\n",
       "        ...,\n",
       "        [  6,   6,  17, ...,  55,  55,  44],\n",
       "        [  6,   6,  17, ...,  55,  55,  44],\n",
       "        [  6,   6,   6, ...,  55,  44,  44]]], dtype=uint8)"
      ]
     },
     "execution_count": 30,
     "metadata": {},
     "output_type": "execute_result"
    }
   ],
   "source": [
    "frames_uint8 = (frames * 255).astype(np.uint8)\n",
    "frames_uint8"
   ]
  },
  {
   "cell_type": "code",
   "execution_count": 31,
   "id": "98a716ef-3c6e-402f-991c-081f04dd3693",
   "metadata": {},
   "outputs": [],
   "source": [
    "imageio.mimsave(\"./animation.gif\", frames_uint8, fps=10)"
   ]
  },
  {
   "cell_type": "code",
   "execution_count": 32,
   "id": "b5781a63-91bb-4d9f-a56b-cff6cce20adb",
   "metadata": {},
   "outputs": [
    {
     "data": {
      "text/plain": [
       "<matplotlib.image.AxesImage at 0x752e0afc0760>"
      ]
     },
     "execution_count": 32,
     "metadata": {},
     "output_type": "execute_result"
    },
    {
     "data": {
      "image/png": "[encoded data removed]",
      "text/plain": [
       "<Figure size 640x480 with 1 Axes>"
      ]
     },
     "metadata": {},
     "output_type": "display_data"
    }
   ],
   "source": [
    "# val[videos][1st video of the batch][return the first frame in the video]\n",
    "plt.imshow(val[0][1][35])"
   ]
  },
  {
   "cell_type": "code",
   "execution_count": 33,
   "id": "aeae8451-77ee-418e-b952-2adaf172acb4",
   "metadata": {},
   "outputs": [
    {
     "data": {
      "text/plain": [
       "<tf.Tensor: shape=(), dtype=string, numpy=b'lay red in y three again'>"
      ]
     },
     "execution_count": 33,
     "metadata": {},
     "output_type": "execute_result"
    }
   ],
   "source": [
    "tf.strings.reduce_join([num_to_char(word) for word in val[1][0]])"
   ]
  },
  {
   "cell_type": "markdown",
   "id": "6f36f7ff-2152-4c73-bb11-a43c50eeed8d",
   "metadata": {},
   "source": [
    "### 3. Design the Deep Neural Network"
   ]
  },
  {
   "cell_type": "code",
   "execution_count": 34,
   "id": "ba40d1ef-e7f2-4fcc-8672-52c709c8745e",
   "metadata": {},
   "outputs": [],
   "source": [
    "from tensorflow.keras.models import Sequential\n",
    "from tensorflow.keras.layers import Conv3D, LSTM, Dense, Dropout, Bidirectional, MaxPool3D, Activation, Reshape, SpatialDropout3D, \\\n",
    "BatchNormalization, TimeDistributed, Flatten\n",
    "from tensorflow.keras.optimizers import Adam\n",
    "from tensorflow.keras.callbacks import ModelCheckpoint, LearningRateScheduler"
   ]
  },
  {
   "cell_type": "code",
   "execution_count": 35,
   "id": "3e84a0de-6749-4014-8851-2007c4d36353",
   "metadata": {},
   "outputs": [
    {
     "data": {
      "text/plain": [
       "(75, 46, 140, 1)"
      ]
     },
     "execution_count": 35,
     "metadata": {},
     "output_type": "execute_result"
    }
   ],
   "source": [
    "data.as_numpy_iterator().next()[0][0].shape"
   ]
  },
  {
   "cell_type": "code",
   "execution_count": 36,
   "id": "9d2e963f-8809-4cc1-94b2-8cc3b1b1bcf9",
   "metadata": {},
   "outputs": [
    {
     "data": {
      "text/plain": [
       "40"
      ]
     },
     "execution_count": 36,
     "metadata": {},
     "output_type": "execute_result"
    }
   ],
   "source": [
    "char_to_num.vocabulary_size()"
   ]
  },
  {
   "cell_type": "code",
   "execution_count": 37,
   "id": "2441ffb8-9751-4459-8c9d-7f40610b560a",
   "metadata": {
    "scrolled": true
   },
   "outputs": [
    {
     "name": "stderr",
     "output_type": "stream",
     "text": [
      "2025-07-20 09:29:13.913207: I tensorflow/core/common_runtime/executor.cc:1197] [/device:CPU:0] (DEBUG INFO) Executor start aborting (this does not indicate an error and you can ignore this message): INVALID_ARGUMENT: You must feed a value for placeholder tensor 'gradients/split_2_grad/concat/split_2/split_dim' with dtype int32\n",
      "\t [[{{node gradients/split_2_grad/concat/split_2/split_dim}}]]\n",
      "2025-07-20 09:29:13.915317: I tensorflow/core/common_runtime/executor.cc:1197] [/device:CPU:0] (DEBUG INFO) Executor start aborting (this does not indicate an error and you can ignore this message): INVALID_ARGUMENT: You must feed a value for placeholder tensor 'gradients/split_grad/concat/split/split_dim' with dtype int32\n",
      "\t [[{{node gradients/split_grad/concat/split/split_dim}}]]\n",
      "2025-07-20 09:29:13.916739: I tensorflow/core/common_runtime/executor.cc:1197] [/device:CPU:0] (DEBUG INFO) Executor start aborting (this does not indicate an error and you can ignore this message): INVALID_ARGUMENT: You must feed a value for placeholder tensor 'gradients/split_1_grad/concat/split_1/split_dim' with dtype int32\n",
      "\t [[{{node gradients/split_1_grad/concat/split_1/split_dim}}]]\n",
      "2025-07-20 09:29:14.067171: I tensorflow/core/common_runtime/executor.cc:1197] [/device:CPU:0] (DEBUG INFO) Executor start aborting (this does not indicate an error and you can ignore this message): INVALID_ARGUMENT: You must feed a value for placeholder tensor 'gradients/ReverseV2_grad/ReverseV2/ReverseV2/axis' with dtype int32 and shape [1]\n",
      "\t [[{{node gradients/ReverseV2_grad/ReverseV2/ReverseV2/axis}}]]\n",
      "2025-07-20 09:29:14.129253: I tensorflow/core/common_runtime/executor.cc:1197] [/device:CPU:0] (DEBUG INFO) Executor start aborting (this does not indicate an error and you can ignore this message): INVALID_ARGUMENT: You must feed a value for placeholder tensor 'gradients/split_2_grad/concat/split_2/split_dim' with dtype int32\n",
      "\t [[{{node gradients/split_2_grad/concat/split_2/split_dim}}]]\n",
      "2025-07-20 09:29:14.131128: I tensorflow/core/common_runtime/executor.cc:1197] [/device:CPU:0] (DEBUG INFO) Executor start aborting (this does not indicate an error and you can ignore this message): INVALID_ARGUMENT: You must feed a value for placeholder tensor 'gradients/split_grad/concat/split/split_dim' with dtype int32\n",
      "\t [[{{node gradients/split_grad/concat/split/split_dim}}]]\n",
      "2025-07-20 09:29:14.132602: I tensorflow/core/common_runtime/executor.cc:1197] [/device:CPU:0] (DEBUG INFO) Executor start aborting (this does not indicate an error and you can ignore this message): INVALID_ARGUMENT: You must feed a value for placeholder tensor 'gradients/split_1_grad/concat/split_1/split_dim' with dtype int32\n",
      "\t [[{{node gradients/split_1_grad/concat/split_1/split_dim}}]]\n",
      "2025-07-20 09:29:14.504135: I tensorflow/core/common_runtime/executor.cc:1197] [/device:CPU:0] (DEBUG INFO) Executor start aborting (this does not indicate an error and you can ignore this message): INVALID_ARGUMENT: You must feed a value for placeholder tensor 'gradients/split_2_grad/concat/split_2/split_dim' with dtype int32\n",
      "\t [[{{node gradients/split_2_grad/concat/split_2/split_dim}}]]\n",
      "2025-07-20 09:29:14.506181: I tensorflow/core/common_runtime/executor.cc:1197] [/device:CPU:0] (DEBUG INFO) Executor start aborting (this does not indicate an error and you can ignore this message): INVALID_ARGUMENT: You must feed a value for placeholder tensor 'gradients/split_grad/concat/split/split_dim' with dtype int32\n",
      "\t [[{{node gradients/split_grad/concat/split/split_dim}}]]\n",
      "2025-07-20 09:29:14.507604: I tensorflow/core/common_runtime/executor.cc:1197] [/device:CPU:0] (DEBUG INFO) Executor start aborting (this does not indicate an error and you can ignore this message): INVALID_ARGUMENT: You must feed a value for placeholder tensor 'gradients/split_1_grad/concat/split_1/split_dim' with dtype int32\n",
      "\t [[{{node gradients/split_1_grad/concat/split_1/split_dim}}]]\n",
      "2025-07-20 09:29:14.655548: I tensorflow/core/common_runtime/executor.cc:1197] [/device:CPU:0] (DEBUG INFO) Executor start aborting (this does not indicate an error and you can ignore this message): INVALID_ARGUMENT: You must feed a value for placeholder tensor 'gradients/ReverseV2_grad/ReverseV2/ReverseV2/axis' with dtype int32 and shape [1]\n",
      "\t [[{{node gradients/ReverseV2_grad/ReverseV2/ReverseV2/axis}}]]\n",
      "2025-07-20 09:29:14.713479: I tensorflow/core/common_runtime/executor.cc:1197] [/device:CPU:0] (DEBUG INFO) Executor start aborting (this does not indicate an error and you can ignore this message): INVALID_ARGUMENT: You must feed a value for placeholder tensor 'gradients/split_2_grad/concat/split_2/split_dim' with dtype int32\n",
      "\t [[{{node gradients/split_2_grad/concat/split_2/split_dim}}]]\n",
      "2025-07-20 09:29:14.715874: I tensorflow/core/common_runtime/executor.cc:1197] [/device:CPU:0] (DEBUG INFO) Executor start aborting (this does not indicate an error and you can ignore this message): INVALID_ARGUMENT: You must feed a value for placeholder tensor 'gradients/split_grad/concat/split/split_dim' with dtype int32\n",
      "\t [[{{node gradients/split_grad/concat/split/split_dim}}]]\n",
      "2025-07-20 09:29:14.717896: I tensorflow/core/common_runtime/executor.cc:1197] [/device:CPU:0] (DEBUG INFO) Executor start aborting (this does not indicate an error and you can ignore this message): INVALID_ARGUMENT: You must feed a value for placeholder tensor 'gradients/split_1_grad/concat/split_1/split_dim' with dtype int32\n",
      "\t [[{{node gradients/split_1_grad/concat/split_1/split_dim}}]]\n"
     ]
    }
   ],
   "source": [
    "model = Sequential()\n",
    "model.add(Conv3D(32, 3, input_shape=(75,46,140,1), padding='same'))\n",
    "model.add(Activation('relu'))\n",
    "model.add(MaxPool3D((1,2,2)))\n",
    "\n",
    "model.add(Conv3D(64, 3, padding='same'))\n",
    "model.add(Activation('relu'))\n",
    "model.add(MaxPool3D((1,2,2)))\n",
    "\n",
    "model.add(Conv3D(75, 3, padding='same'))\n",
    "model.add(Activation('relu'))\n",
    "model.add(MaxPool3D((1,2,2)))\n",
    "\n",
    "model.add(TimeDistributed(Flatten()))\n",
    "\n",
    "model.add(Bidirectional(LSTM(32, kernel_initializer='Orthogonal', return_sequences=True)))\n",
    "model.add(Dropout(0.5))\n",
    "\n",
    "model.add(Bidirectional(LSTM(32, kernel_initializer='Orthogonal', return_sequences=True)))\n",
    "model.add(Dropout(0.5))\n",
    "\n",
    "model.add(Dense(char_to_num.vocabulary_size()+1, kernel_initializer='he_normal', activation='softmax'))"
   ]
  },
  {
   "cell_type": "code",
   "execution_count": 38,
   "id": "10503715-ead6-490d-86e6-8f847f1f028d",
   "metadata": {},
   "outputs": [
    {
     "name": "stdout",
     "output_type": "stream",
     "text": [
      "Model: \"sequential\"\n",
      "_________________________________________________________________\n",
      " Layer (type)                Output Shape              Param #   \n",
      "=================================================================\n",
      " conv3d (Conv3D)             (None, 75, 46, 140, 32)   896       \n",
      "                                                                 \n",
      " activation (Activation)     (None, 75, 46, 140, 32)   0         \n",
      "                                                                 \n",
      " max_pooling3d (MaxPooling3D  (None, 75, 23, 70, 32)   0         \n",
      " )                                                               \n",
      "                                                                 \n",
      " conv3d_1 (Conv3D)           (None, 75, 23, 70, 64)    55360     \n",
      "                                                                 \n",
      " activation_1 (Activation)   (None, 75, 23, 70, 64)    0         \n",
      "                                                                 \n",
      " max_pooling3d_1 (MaxPooling  (None, 75, 11, 35, 64)   0         \n",
      " 3D)                                                             \n",
      "                                                                 \n",
      " conv3d_2 (Conv3D)           (None, 75, 11, 35, 75)    129675    \n",
      "                                                                 \n",
      " activation_2 (Activation)   (None, 75, 11, 35, 75)    0         \n",
      "                                                                 \n",
      " max_pooling3d_2 (MaxPooling  (None, 75, 5, 17, 75)    0         \n",
      " 3D)                                                             \n",
      "                                                                 \n",
      " time_distributed (TimeDistr  (None, 75, 6375)         0         \n",
      " ibuted)                                                         \n",
      "                                                                 \n",
      " bidirectional (Bidirectiona  (None, 75, 64)           1640448   \n",
      " l)                                                              \n",
      "                                                                 \n",
      " dropout (Dropout)           (None, 75, 64)            0         \n",
      "                                                                 \n",
      " bidirectional_1 (Bidirectio  (None, 75, 64)           24832     \n",
      " nal)                                                            \n",
      "                                                                 \n",
      " dropout_1 (Dropout)         (None, 75, 64)            0         \n",
      "                                                                 \n",
      " dense (Dense)               (None, 75, 41)            2665      \n",
      "                                                                 \n",
      "=================================================================\n",
      "Total params: 1,853,876\n",
      "Trainable params: 1,853,876\n",
      "Non-trainable params: 0\n",
      "_________________________________________________________________\n"
     ]
    }
   ],
   "source": [
    "model.summary()"
   ]
  },
  {
   "cell_type": "code",
   "execution_count": 39,
   "id": "f583708e-f567-453b-9e7f-dab8ef3ade3d",
   "metadata": {
    "scrolled": true
   },
   "outputs": [
    {
     "name": "stderr",
     "output_type": "stream",
     "text": [
      "2025-07-20 09:29:15.170003: I tensorflow/core/common_runtime/executor.cc:1197] [/device:CPU:0] (DEBUG INFO) Executor start aborting (this does not indicate an error and you can ignore this message): INVALID_ARGUMENT: You must feed a value for placeholder tensor 'gradients/split_2_grad/concat/split_2/split_dim' with dtype int32\n",
      "\t [[{{node gradients/split_2_grad/concat/split_2/split_dim}}]]\n",
      "2025-07-20 09:29:15.171784: I tensorflow/core/common_runtime/executor.cc:1197] [/device:CPU:0] (DEBUG INFO) Executor start aborting (this does not indicate an error and you can ignore this message): INVALID_ARGUMENT: You must feed a value for placeholder tensor 'gradients/split_grad/concat/split/split_dim' with dtype int32\n",
      "\t [[{{node gradients/split_grad/concat/split/split_dim}}]]\n",
      "2025-07-20 09:29:15.174007: I tensorflow/core/common_runtime/executor.cc:1197] [/device:CPU:0] (DEBUG INFO) Executor start aborting (this does not indicate an error and you can ignore this message): INVALID_ARGUMENT: You must feed a value for placeholder tensor 'gradients/split_1_grad/concat/split_1/split_dim' with dtype int32\n",
      "\t [[{{node gradients/split_1_grad/concat/split_1/split_dim}}]]\n",
      "2025-07-20 09:29:15.331544: I tensorflow/core/common_runtime/executor.cc:1197] [/device:CPU:0] (DEBUG INFO) Executor start aborting (this does not indicate an error and you can ignore this message): INVALID_ARGUMENT: You must feed a value for placeholder tensor 'gradients/ReverseV2_grad/ReverseV2/ReverseV2/axis' with dtype int32 and shape [1]\n",
      "\t [[{{node gradients/ReverseV2_grad/ReverseV2/ReverseV2/axis}}]]\n",
      "2025-07-20 09:29:15.394291: I tensorflow/core/common_runtime/executor.cc:1197] [/device:CPU:0] (DEBUG INFO) Executor start aborting (this does not indicate an error and you can ignore this message): INVALID_ARGUMENT: You must feed a value for placeholder tensor 'gradients/split_2_grad/concat/split_2/split_dim' with dtype int32\n",
      "\t [[{{node gradients/split_2_grad/concat/split_2/split_dim}}]]\n",
      "2025-07-20 09:29:15.396466: I tensorflow/core/common_runtime/executor.cc:1197] [/device:CPU:0] (DEBUG INFO) Executor start aborting (this does not indicate an error and you can ignore this message): INVALID_ARGUMENT: You must feed a value for placeholder tensor 'gradients/split_grad/concat/split/split_dim' with dtype int32\n",
      "\t [[{{node gradients/split_grad/concat/split/split_dim}}]]\n",
      "2025-07-20 09:29:15.397954: I tensorflow/core/common_runtime/executor.cc:1197] [/device:CPU:0] (DEBUG INFO) Executor start aborting (this does not indicate an error and you can ignore this message): INVALID_ARGUMENT: You must feed a value for placeholder tensor 'gradients/split_1_grad/concat/split_1/split_dim' with dtype int32\n",
      "\t [[{{node gradients/split_1_grad/concat/split_1/split_dim}}]]\n",
      "2025-07-20 09:29:15.610343: I tensorflow/core/common_runtime/executor.cc:1197] [/device:CPU:0] (DEBUG INFO) Executor start aborting (this does not indicate an error and you can ignore this message): INVALID_ARGUMENT: You must feed a value for placeholder tensor 'gradients/split_2_grad/concat/split_2/split_dim' with dtype int32\n",
      "\t [[{{node gradients/split_2_grad/concat/split_2/split_dim}}]]\n",
      "2025-07-20 09:29:15.612323: I tensorflow/core/common_runtime/executor.cc:1197] [/device:CPU:0] (DEBUG INFO) Executor start aborting (this does not indicate an error and you can ignore this message): INVALID_ARGUMENT: You must feed a value for placeholder tensor 'gradients/split_grad/concat/split/split_dim' with dtype int32\n",
      "\t [[{{node gradients/split_grad/concat/split/split_dim}}]]\n",
      "2025-07-20 09:29:15.613770: I tensorflow/core/common_runtime/executor.cc:1197] [/device:CPU:0] (DEBUG INFO) Executor start aborting (this does not indicate an error and you can ignore this message): INVALID_ARGUMENT: You must feed a value for placeholder tensor 'gradients/split_1_grad/concat/split_1/split_dim' with dtype int32\n",
      "\t [[{{node gradients/split_1_grad/concat/split_1/split_dim}}]]\n",
      "2025-07-20 09:29:15.776118: I tensorflow/core/common_runtime/executor.cc:1197] [/device:CPU:0] (DEBUG INFO) Executor start aborting (this does not indicate an error and you can ignore this message): INVALID_ARGUMENT: You must feed a value for placeholder tensor 'gradients/ReverseV2_grad/ReverseV2/ReverseV2/axis' with dtype int32 and shape [1]\n",
      "\t [[{{node gradients/ReverseV2_grad/ReverseV2/ReverseV2/axis}}]]\n",
      "2025-07-20 09:29:15.834301: I tensorflow/core/common_runtime/executor.cc:1197] [/device:CPU:0] (DEBUG INFO) Executor start aborting (this does not indicate an error and you can ignore this message): INVALID_ARGUMENT: You must feed a value for placeholder tensor 'gradients/split_2_grad/concat/split_2/split_dim' with dtype int32\n",
      "\t [[{{node gradients/split_2_grad/concat/split_2/split_dim}}]]\n",
      "2025-07-20 09:29:15.836372: I tensorflow/core/common_runtime/executor.cc:1197] [/device:CPU:0] (DEBUG INFO) Executor start aborting (this does not indicate an error and you can ignore this message): INVALID_ARGUMENT: You must feed a value for placeholder tensor 'gradients/split_grad/concat/split/split_dim' with dtype int32\n",
      "\t [[{{node gradients/split_grad/concat/split/split_dim}}]]\n",
      "2025-07-20 09:29:15.838049: I tensorflow/core/common_runtime/executor.cc:1197] [/device:CPU:0] (DEBUG INFO) Executor start aborting (this does not indicate an error and you can ignore this message): INVALID_ARGUMENT: You must feed a value for placeholder tensor 'gradients/split_1_grad/concat/split_1/split_dim' with dtype int32\n",
      "\t [[{{node gradients/split_1_grad/concat/split_1/split_dim}}]]\n"
     ]
    },
    {
     "name": "stdout",
     "output_type": "stream",
     "text": [
      "1/1 [==============================] - 2s 2s/step\n"
     ]
    },
    {
     "data": {
      "text/plain": [
       "array([[[0.02084316, 0.01927349, 0.02774192, ..., 0.02093888,\n",
       "         0.01828434, 0.01831937],\n",
       "        [0.0197833 , 0.01812803, 0.02740658, ..., 0.02173794,\n",
       "         0.01788701, 0.01810973],\n",
       "        [0.01886084, 0.01776216, 0.0269523 , ..., 0.02227029,\n",
       "         0.0170482 , 0.01758908],\n",
       "        ...,\n",
       "        [0.01927901, 0.02206152, 0.02585392, ..., 0.02285863,\n",
       "         0.01643685, 0.02579213],\n",
       "        [0.01994595, 0.02362191, 0.02573674, ..., 0.02262788,\n",
       "         0.01728614, 0.02681477],\n",
       "        [0.02046405, 0.02585511, 0.02553629, ..., 0.02238874,\n",
       "         0.01832068, 0.02728779]],\n",
       "\n",
       "       [[0.02140903, 0.02002919, 0.0247913 , ..., 0.02026456,\n",
       "         0.01824996, 0.01808607],\n",
       "        [0.02060112, 0.01931592, 0.02405141, ..., 0.01985911,\n",
       "         0.01778302, 0.0178777 ],\n",
       "        [0.01985095, 0.01918599, 0.02341225, ..., 0.01949985,\n",
       "         0.01712769, 0.01756133],\n",
       "        ...,\n",
       "        [0.01777738, 0.02092291, 0.02248251, ..., 0.01867046,\n",
       "         0.01604313, 0.02112186],\n",
       "        [0.01803071, 0.02207463, 0.02285846, ..., 0.01865061,\n",
       "         0.0169469 , 0.02162546],\n",
       "        [0.01857422, 0.02405236, 0.02363337, ..., 0.01865836,\n",
       "         0.01804039, 0.02184553]]], dtype=float32)"
      ]
     },
     "execution_count": 39,
     "metadata": {},
     "output_type": "execute_result"
    }
   ],
   "source": [
    "yhat = model.predict(val[0])\n",
    "yhat"
   ]
  },
  {
   "cell_type": "code",
   "execution_count": 40,
   "id": "5415feeb-e624-4240-930f-5efe9ee0b3b5",
   "metadata": {},
   "outputs": [
    {
     "data": {
      "text/plain": [
       "<tf.Tensor: shape=(), dtype=string, numpy=b'666rrrrrrr666666666666666666rrrrrrrrrrrrrrrrrrrrrrrrrrrrrrrrr6666666rrrrfff'>"
      ]
     },
     "execution_count": 40,
     "metadata": {},
     "output_type": "execute_result"
    }
   ],
   "source": [
    "tf.strings.reduce_join([num_to_char(tf.argmax(x)) for x in yhat[0]])"
   ]
  },
  {
   "cell_type": "code",
   "execution_count": 41,
   "id": "61eecd9b-ae31-40b0-84ac-39966016b832",
   "metadata": {},
   "outputs": [
    {
     "data": {
      "text/plain": [
       "<tf.Tensor: shape=(75,), dtype=int64, numpy=\n",
       "array([35, 35, 35, 18, 18, 18, 18, 18, 18, 18, 35, 35, 35, 35, 35, 35, 35,\n",
       "       35, 35, 35, 35, 35, 35, 35, 35, 35, 35, 35, 18, 18, 18, 18, 18, 18,\n",
       "       18, 18, 18, 18, 18, 18, 18, 18, 18, 18, 18, 18, 18, 18, 18, 18, 18,\n",
       "       18, 18, 18, 18, 18, 18, 18, 18, 18, 18, 35, 35, 35, 35, 35, 35, 35,\n",
       "       18, 18, 18, 18,  6,  6,  6])>"
      ]
     },
     "execution_count": 41,
     "metadata": {},
     "output_type": "execute_result"
    }
   ],
   "source": [
    "tf.argmax(yhat[0], axis=1)"
   ]
  },
  {
   "cell_type": "code",
   "execution_count": 42,
   "id": "ed910f48-ed85-4652-b797-605d8d23c656",
   "metadata": {},
   "outputs": [
    {
     "data": {
      "text/plain": [
       "(None, 75, 46, 140, 1)"
      ]
     },
     "execution_count": 42,
     "metadata": {},
     "output_type": "execute_result"
    }
   ],
   "source": [
    "model.input_shape"
   ]
  },
  {
   "cell_type": "code",
   "execution_count": 43,
   "id": "eb6ecc16-1e70-4324-8200-08c010151580",
   "metadata": {},
   "outputs": [
    {
     "data": {
      "text/plain": [
       "(None, 75, 41)"
      ]
     },
     "execution_count": 43,
     "metadata": {},
     "output_type": "execute_result"
    }
   ],
   "source": [
    "model.output_shape"
   ]
  },
  {
   "cell_type": "markdown",
   "id": "9dd1efe3-238b-4ab1-bb56-8d9b5804fa94",
   "metadata": {},
   "source": [
    "### 4. Setup Training Options and Train"
   ]
  },
  {
   "cell_type": "code",
   "execution_count": 44,
   "id": "87876720-f986-4ce3-95b4-f78fec8aab93",
   "metadata": {},
   "outputs": [],
   "source": [
    "def scheduler(epoch, lr):\n",
    "    if epoch < 30:\n",
    "        return lr\n",
    "    else:\n",
    "        return lr*tf.math.exp(-0.1)"
   ]
  },
  {
   "cell_type": "code",
   "execution_count": 45,
   "id": "ddd88cdf-edfb-495e-975f-e209af72d65f",
   "metadata": {},
   "outputs": [],
   "source": [
    "def CTCLoss(y_true, y_pred):\n",
    "    batch_len = tf.cast(tf.shape(y_true)[0], dtype='int64')\n",
    "    input_length = tf.cast(tf.shape(y_pred)[1], dtype='int64')\n",
    "    label_length = tf.cast(tf.shape(y_true)[1], dtype='int64')\n",
    "\n",
    "    input_length = input_length * tf.ones(shape=(batch_len, 1), dtype='int64')\n",
    "    label_length = input_length * tf.ones(shape=(batch_len, 1), dtype='int64')\n",
    "\n",
    "    loss = tf.keras.backend.ctc_batch_cost(y_true, y_pred, input_length, label_length)\n",
    "    return loss"
   ]
  },
  {
   "cell_type": "code",
   "execution_count": 46,
   "id": "4dc3fb72-c287-4508-ae75-17853790b2b5",
   "metadata": {},
   "outputs": [],
   "source": [
    "class ProduceExample(tf.keras.callbacks.Callback): \n",
    "    def __init__(self, dataset) -> None: \n",
    "        self.dataset = dataset.as_numpy_iterator()\n",
    "    \n",
    "    def on_epoch_end(self, epoch, logs=None) -> None:\n",
    "        data = self.dataset.next()\n",
    "        yhat = self.model.predict(data[0])\n",
    "        decoded = tf.keras.backend.ctc_decode(yhat, [75,75], greedy=False)[0][0].numpy()\n",
    "        for x in range(len(yhat)):           \n",
    "            print('Original:', tf.strings.reduce_join(num_to_char(data[1][x])).numpy().decode('utf-8'))\n",
    "            print('Prediction:', tf.strings.reduce_join(num_to_char(decoded[x])).numpy().decode('utf-8'))\n",
    "            print('~'*100)"
   ]
  },
  {
   "cell_type": "code",
   "execution_count": 47,
   "id": "06a162dd-e27d-43ec-811b-aa04201dff46",
   "metadata": {},
   "outputs": [],
   "source": [
    "model.compile(optimizer=Adam(learning_rate=0.0001), loss=CTCLoss)"
   ]
  },
  {
   "cell_type": "code",
   "execution_count": 48,
   "id": "1e75a355-08e3-4ad0-9146-229a8a945089",
   "metadata": {},
   "outputs": [],
   "source": [
    "os.makedirs('models', exist_ok=True)\n",
    "checkpoint_callback = ModelCheckpoint(\n",
    "    filepath=os.path.join('models', 'checkpoint.weights.h5'),\n",
    "    monitor='loss',\n",
    "    save_weights_only=True\n",
    ")"
   ]
  },
  {
   "cell_type": "code",
   "execution_count": 49,
   "id": "a715566d-3276-47fb-b435-e586508b7171",
   "metadata": {},
   "outputs": [],
   "source": [
    "schedule_callback = LearningRateScheduler(scheduler)"
   ]
  },
  {
   "cell_type": "code",
   "execution_count": 50,
   "id": "6b148e02-ca2c-4a01-960f-94109ee57bf4",
   "metadata": {},
   "outputs": [
    {
     "name": "stderr",
     "output_type": "stream",
     "text": [
      "2025-07-20 09:29:26.899153: I tensorflow/core/common_runtime/executor.cc:1197] [/device:CPU:0] (DEBUG INFO) Executor start aborting (this does not indicate an error and you can ignore this message): INVALID_ARGUMENT: You must feed a value for placeholder tensor 'Placeholder/_0' with dtype string and shape [63]\n",
      "\t [[{{node Placeholder/_0}}]]\n",
      "2025-07-20 09:29:26.899722: I tensorflow/core/common_runtime/executor.cc:1197] [/device:CPU:0] (DEBUG INFO) Executor start aborting (this does not indicate an error and you can ignore this message): INVALID_ARGUMENT: You must feed a value for placeholder tensor 'Placeholder/_0' with dtype string and shape [63]\n",
      "\t [[{{node Placeholder/_0}}]]\n"
     ]
    }
   ],
   "source": [
    "example_callback = ProduceExample(test)"
   ]
  },
  {
   "cell_type": "code",
   "execution_count": 51,
   "id": "01fadf76-23a4-401a-ab6b-55be49ea2935",
   "metadata": {
    "scrolled": true
   },
   "outputs": [
    {
     "name": "stdout",
     "output_type": "stream",
     "text": [
      "Epoch 1/5\n"
     ]
    },
    {
     "name": "stderr",
     "output_type": "stream",
     "text": [
      "2025-07-20 09:29:38.130799: I tensorflow/core/common_runtime/executor.cc:1197] [/device:CPU:0] (DEBUG INFO) Executor start aborting (this does not indicate an error and you can ignore this message): INVALID_ARGUMENT: You must feed a value for placeholder tensor 'Placeholder/_0' with dtype string and shape [63]\n",
      "\t [[{{node Placeholder/_0}}]]\n",
      "2025-07-20 09:29:38.131637: I tensorflow/core/common_runtime/executor.cc:1197] [/device:CPU:0] (DEBUG INFO) Executor start aborting (this does not indicate an error and you can ignore this message): INVALID_ARGUMENT: You must feed a value for placeholder tensor 'Placeholder/_0' with dtype string and shape [63]\n",
      "\t [[{{node Placeholder/_0}}]]\n",
      "2025-07-20 09:29:38.565588: I tensorflow/core/common_runtime/executor.cc:1197] [/device:CPU:0] (DEBUG INFO) Executor start aborting (this does not indicate an error and you can ignore this message): INVALID_ARGUMENT: You must feed a value for placeholder tensor 'gradients/split_2_grad/concat/split_2/split_dim' with dtype int32\n",
      "\t [[{{node gradients/split_2_grad/concat/split_2/split_dim}}]]\n",
      "2025-07-20 09:29:38.567906: I tensorflow/core/common_runtime/executor.cc:1197] [/device:CPU:0] (DEBUG INFO) Executor start aborting (this does not indicate an error and you can ignore this message): INVALID_ARGUMENT: You must feed a value for placeholder tensor 'gradients/split_grad/concat/split/split_dim' with dtype int32\n",
      "\t [[{{node gradients/split_grad/concat/split/split_dim}}]]\n",
      "2025-07-20 09:29:38.569537: I tensorflow/core/common_runtime/executor.cc:1197] [/device:CPU:0] (DEBUG INFO) Executor start aborting (this does not indicate an error and you can ignore this message): INVALID_ARGUMENT: You must feed a value for placeholder tensor 'gradients/split_1_grad/concat/split_1/split_dim' with dtype int32\n",
      "\t [[{{node gradients/split_1_grad/concat/split_1/split_dim}}]]\n",
      "2025-07-20 09:29:38.752700: I tensorflow/core/common_runtime/executor.cc:1197] [/device:CPU:0] (DEBUG INFO) Executor start aborting (this does not indicate an error and you can ignore this message): INVALID_ARGUMENT: You must feed a value for placeholder tensor 'gradients/ReverseV2_grad/ReverseV2/ReverseV2/axis' with dtype int32 and shape [1]\n",
      "\t [[{{node gradients/ReverseV2_grad/ReverseV2/ReverseV2/axis}}]]\n",
      "2025-07-20 09:29:38.824182: I tensorflow/core/common_runtime/executor.cc:1197] [/device:CPU:0] (DEBUG INFO) Executor start aborting (this does not indicate an error and you can ignore this message): INVALID_ARGUMENT: You must feed a value for placeholder tensor 'gradients/split_2_grad/concat/split_2/split_dim' with dtype int32\n",
      "\t [[{{node gradients/split_2_grad/concat/split_2/split_dim}}]]\n",
      "2025-07-20 09:29:38.826683: I tensorflow/core/common_runtime/executor.cc:1197] [/device:CPU:0] (DEBUG INFO) Executor start aborting (this does not indicate an error and you can ignore this message): INVALID_ARGUMENT: You must feed a value for placeholder tensor 'gradients/split_grad/concat/split/split_dim' with dtype int32\n",
      "\t [[{{node gradients/split_grad/concat/split/split_dim}}]]\n",
      "2025-07-20 09:29:38.828595: I tensorflow/core/common_runtime/executor.cc:1197] [/device:CPU:0] (DEBUG INFO) Executor start aborting (this does not indicate an error and you can ignore this message): INVALID_ARGUMENT: You must feed a value for placeholder tensor 'gradients/split_1_grad/concat/split_1/split_dim' with dtype int32\n",
      "\t [[{{node gradients/split_1_grad/concat/split_1/split_dim}}]]\n",
      "2025-07-20 09:29:39.084591: I tensorflow/core/common_runtime/executor.cc:1197] [/device:CPU:0] (DEBUG INFO) Executor start aborting (this does not indicate an error and you can ignore this message): INVALID_ARGUMENT: You must feed a value for placeholder tensor 'gradients/split_2_grad/concat/split_2/split_dim' with dtype int32\n",
      "\t [[{{node gradients/split_2_grad/concat/split_2/split_dim}}]]\n",
      "2025-07-20 09:29:39.086631: I tensorflow/core/common_runtime/executor.cc:1197] [/device:CPU:0] (DEBUG INFO) Executor start aborting (this does not indicate an error and you can ignore this message): INVALID_ARGUMENT: You must feed a value for placeholder tensor 'gradients/split_grad/concat/split/split_dim' with dtype int32\n",
      "\t [[{{node gradients/split_grad/concat/split/split_dim}}]]\n",
      "2025-07-20 09:29:39.088162: I tensorflow/core/common_runtime/executor.cc:1197] [/device:CPU:0] (DEBUG INFO) Executor start aborting (this does not indicate an error and you can ignore this message): INVALID_ARGUMENT: You must feed a value for placeholder tensor 'gradients/split_1_grad/concat/split_1/split_dim' with dtype int32\n",
      "\t [[{{node gradients/split_1_grad/concat/split_1/split_dim}}]]\n",
      "2025-07-20 09:29:39.274373: I tensorflow/core/common_runtime/executor.cc:1197] [/device:CPU:0] (DEBUG INFO) Executor start aborting (this does not indicate an error and you can ignore this message): INVALID_ARGUMENT: You must feed a value for placeholder tensor 'gradients/ReverseV2_grad/ReverseV2/ReverseV2/axis' with dtype int32 and shape [1]\n",
      "\t [[{{node gradients/ReverseV2_grad/ReverseV2/ReverseV2/axis}}]]\n",
      "2025-07-20 09:29:39.342755: I tensorflow/core/common_runtime/executor.cc:1197] [/device:CPU:0] (DEBUG INFO) Executor start aborting (this does not indicate an error and you can ignore this message): INVALID_ARGUMENT: You must feed a value for placeholder tensor 'gradients/split_2_grad/concat/split_2/split_dim' with dtype int32\n",
      "\t [[{{node gradients/split_2_grad/concat/split_2/split_dim}}]]\n",
      "2025-07-20 09:29:39.344790: I tensorflow/core/common_runtime/executor.cc:1197] [/device:CPU:0] (DEBUG INFO) Executor start aborting (this does not indicate an error and you can ignore this message): INVALID_ARGUMENT: You must feed a value for placeholder tensor 'gradients/split_grad/concat/split/split_dim' with dtype int32\n",
      "\t [[{{node gradients/split_grad/concat/split/split_dim}}]]\n",
      "2025-07-20 09:29:39.346415: I tensorflow/core/common_runtime/executor.cc:1197] [/device:CPU:0] (DEBUG INFO) Executor start aborting (this does not indicate an error and you can ignore this message): INVALID_ARGUMENT: You must feed a value for placeholder tensor 'gradients/split_1_grad/concat/split_1/split_dim' with dtype int32\n",
      "\t [[{{node gradients/split_1_grad/concat/split_1/split_dim}}]]\n",
      "2025-07-20 09:29:39.506649: I tensorflow/core/common_runtime/executor.cc:1197] [/device:CPU:0] (DEBUG INFO) Executor start aborting (this does not indicate an error and you can ignore this message): INVALID_ARGUMENT: You must feed a value for placeholder tensor 'CTCLoss/scan/while/Fill/CTCLoss/stack_1' with dtype int32 and shape [1]\n",
      "\t [[{{node CTCLoss/scan/while/Fill/CTCLoss/stack_1}}]]\n",
      "2025-07-20 09:29:39.506763: I tensorflow/core/common_runtime/executor.cc:1197] [/device:CPU:0] (DEBUG INFO) Executor start aborting (this does not indicate an error and you can ignore this message): INVALID_ARGUMENT: You must feed a value for placeholder tensor 'CTCLoss/scan/while/Fill/CTCLoss/stack_1' with dtype int32 and shape [1]\n",
      "\t [[{{node CTCLoss/scan/while/Fill/CTCLoss/stack_1}}]]\n",
      "2025-07-20 09:29:40.183741: I tensorflow/core/common_runtime/executor.cc:1197] [/device:CPU:0] (DEBUG INFO) Executor start aborting (this does not indicate an error and you can ignore this message): INVALID_ARGUMENT: You must feed a value for placeholder tensor 'gradients/ReverseV2_grad/ReverseV2/ReverseV2/axis' with dtype int32 and shape [1]\n",
      "\t [[{{node gradients/ReverseV2_grad/ReverseV2/ReverseV2/axis}}]]\n",
      "2025-07-20 09:29:40.726302: I tensorflow/core/common_runtime/executor.cc:1197] [/device:CPU:0] (DEBUG INFO) Executor start aborting (this does not indicate an error and you can ignore this message): INVALID_ARGUMENT: You must feed a value for placeholder tensor 'gradients/ReverseV2_grad/ReverseV2/ReverseV2/axis' with dtype int32 and shape [1]\n",
      "\t [[{{node gradients/ReverseV2_grad/ReverseV2/ReverseV2/axis}}]]\n",
      "2025-07-20 09:29:41.614608: I tensorflow/core/common_runtime/executor.cc:1197] [/device:CPU:0] (DEBUG INFO) Executor start aborting (this does not indicate an error and you can ignore this message): INVALID_ARGUMENT: You must feed a value for placeholder tensor 'gradients/split_2_grad/concat/split_2/split_dim' with dtype int32\n",
      "\t [[{{node gradients/split_2_grad/concat/split_2/split_dim}}]]\n",
      "2025-07-20 09:29:41.618397: I tensorflow/core/common_runtime/executor.cc:1197] [/device:CPU:0] (DEBUG INFO) Executor start aborting (this does not indicate an error and you can ignore this message): INVALID_ARGUMENT: You must feed a value for placeholder tensor 'gradients/split_grad/concat/split/split_dim' with dtype int32\n",
      "\t [[{{node gradients/split_grad/concat/split/split_dim}}]]\n",
      "2025-07-20 09:29:41.620044: I tensorflow/core/common_runtime/executor.cc:1197] [/device:CPU:0] (DEBUG INFO) Executor start aborting (this does not indicate an error and you can ignore this message): INVALID_ARGUMENT: You must feed a value for placeholder tensor 'gradients/split_1_grad/concat/split_1/split_dim' with dtype int32\n",
      "\t [[{{node gradients/split_1_grad/concat/split_1/split_dim}}]]\n",
      "2025-07-20 09:29:41.846428: I tensorflow/core/common_runtime/executor.cc:1197] [/device:CPU:0] (DEBUG INFO) Executor start aborting (this does not indicate an error and you can ignore this message): INVALID_ARGUMENT: You must feed a value for placeholder tensor 'gradients/ReverseV2_grad/ReverseV2/ReverseV2/axis' with dtype int32 and shape [1]\n",
      "\t [[{{node gradients/ReverseV2_grad/ReverseV2/ReverseV2/axis}}]]\n",
      "2025-07-20 09:29:41.921100: I tensorflow/core/common_runtime/executor.cc:1197] [/device:CPU:0] (DEBUG INFO) Executor start aborting (this does not indicate an error and you can ignore this message): INVALID_ARGUMENT: You must feed a value for placeholder tensor 'gradients/split_2_grad/concat/split_2/split_dim' with dtype int32\n",
      "\t [[{{node gradients/split_2_grad/concat/split_2/split_dim}}]]\n",
      "2025-07-20 09:29:41.923155: I tensorflow/core/common_runtime/executor.cc:1197] [/device:CPU:0] (DEBUG INFO) Executor start aborting (this does not indicate an error and you can ignore this message): INVALID_ARGUMENT: You must feed a value for placeholder tensor 'gradients/split_grad/concat/split/split_dim' with dtype int32\n",
      "\t [[{{node gradients/split_grad/concat/split/split_dim}}]]\n",
      "2025-07-20 09:29:41.925224: I tensorflow/core/common_runtime/executor.cc:1197] [/device:CPU:0] (DEBUG INFO) Executor start aborting (this does not indicate an error and you can ignore this message): INVALID_ARGUMENT: You must feed a value for placeholder tensor 'gradients/split_1_grad/concat/split_1/split_dim' with dtype int32\n",
      "\t [[{{node gradients/split_1_grad/concat/split_1/split_dim}}]]\n",
      "2025-07-20 09:29:42.230672: I tensorflow/core/common_runtime/executor.cc:1197] [/device:CPU:0] (DEBUG INFO) Executor start aborting (this does not indicate an error and you can ignore this message): INVALID_ARGUMENT: You must feed a value for placeholder tensor 'gradients/split_2_grad/concat/split_2/split_dim' with dtype int32\n",
      "\t [[{{node gradients/split_2_grad/concat/split_2/split_dim}}]]\n",
      "2025-07-20 09:29:42.233372: I tensorflow/core/common_runtime/executor.cc:1197] [/device:CPU:0] (DEBUG INFO) Executor start aborting (this does not indicate an error and you can ignore this message): INVALID_ARGUMENT: You must feed a value for placeholder tensor 'gradients/split_grad/concat/split/split_dim' with dtype int32\n",
      "\t [[{{node gradients/split_grad/concat/split/split_dim}}]]\n",
      "2025-07-20 09:29:42.234917: I tensorflow/core/common_runtime/executor.cc:1197] [/device:CPU:0] (DEBUG INFO) Executor start aborting (this does not indicate an error and you can ignore this message): INVALID_ARGUMENT: You must feed a value for placeholder tensor 'gradients/split_1_grad/concat/split_1/split_dim' with dtype int32\n",
      "\t [[{{node gradients/split_1_grad/concat/split_1/split_dim}}]]\n",
      "2025-07-20 09:29:42.447895: I tensorflow/core/common_runtime/executor.cc:1197] [/device:CPU:0] (DEBUG INFO) Executor start aborting (this does not indicate an error and you can ignore this message): INVALID_ARGUMENT: You must feed a value for placeholder tensor 'gradients/ReverseV2_grad/ReverseV2/ReverseV2/axis' with dtype int32 and shape [1]\n",
      "\t [[{{node gradients/ReverseV2_grad/ReverseV2/ReverseV2/axis}}]]\n",
      "2025-07-20 09:29:42.538980: I tensorflow/core/common_runtime/executor.cc:1197] [/device:CPU:0] (DEBUG INFO) Executor start aborting (this does not indicate an error and you can ignore this message): INVALID_ARGUMENT: You must feed a value for placeholder tensor 'gradients/split_2_grad/concat/split_2/split_dim' with dtype int32\n",
      "\t [[{{node gradients/split_2_grad/concat/split_2/split_dim}}]]\n",
      "2025-07-20 09:29:42.541211: I tensorflow/core/common_runtime/executor.cc:1197] [/device:CPU:0] (DEBUG INFO) Executor start aborting (this does not indicate an error and you can ignore this message): INVALID_ARGUMENT: You must feed a value for placeholder tensor 'gradients/split_grad/concat/split/split_dim' with dtype int32\n",
      "\t [[{{node gradients/split_grad/concat/split/split_dim}}]]\n",
      "2025-07-20 09:29:42.543972: I tensorflow/core/common_runtime/executor.cc:1197] [/device:CPU:0] (DEBUG INFO) Executor start aborting (this does not indicate an error and you can ignore this message): INVALID_ARGUMENT: You must feed a value for placeholder tensor 'gradients/split_1_grad/concat/split_1/split_dim' with dtype int32\n",
      "\t [[{{node gradients/split_1_grad/concat/split_1/split_dim}}]]\n",
      "2025-07-20 09:29:42.654626: I tensorflow/core/common_runtime/executor.cc:1197] [/device:CPU:0] (DEBUG INFO) Executor start aborting (this does not indicate an error and you can ignore this message): INVALID_ARGUMENT: You must feed a value for placeholder tensor 'CTCLoss/scan/while/Fill/CTCLoss/stack_1' with dtype int32 and shape [1]\n",
      "\t [[{{node CTCLoss/scan/while/Fill/CTCLoss/stack_1}}]]\n",
      "2025-07-20 09:29:42.654750: I tensorflow/core/common_runtime/executor.cc:1197] [/device:CPU:0] (DEBUG INFO) Executor start aborting (this does not indicate an error and you can ignore this message): INVALID_ARGUMENT: You must feed a value for placeholder tensor 'CTCLoss/scan/while/Fill/CTCLoss/stack_1' with dtype int32 and shape [1]\n",
      "\t [[{{node CTCLoss/scan/while/Fill/CTCLoss/stack_1}}]]\n",
      "2025-07-20 09:29:43.531417: I tensorflow/core/common_runtime/executor.cc:1197] [/device:CPU:0] (DEBUG INFO) Executor start aborting (this does not indicate an error and you can ignore this message): INVALID_ARGUMENT: You must feed a value for placeholder tensor 'gradients/ReverseV2_grad/ReverseV2/ReverseV2/axis' with dtype int32 and shape [1]\n",
      "\t [[{{node gradients/ReverseV2_grad/ReverseV2/ReverseV2/axis}}]]\n",
      "2025-07-20 09:29:44.055358: I tensorflow/core/common_runtime/executor.cc:1197] [/device:CPU:0] (DEBUG INFO) Executor start aborting (this does not indicate an error and you can ignore this message): INVALID_ARGUMENT: You must feed a value for placeholder tensor 'gradients/ReverseV2_grad/ReverseV2/ReverseV2/axis' with dtype int32 and shape [1]\n",
      "\t [[{{node gradients/ReverseV2_grad/ReverseV2/ReverseV2/axis}}]]\n",
      "[mpeg1video @ 0x752e701bc740] ac-tex damaged at 22 17\n",
      "[mpeg1video @ 0x752e701bc740] Warning MVs not available\n"
     ]
    },
    {
     "name": "stdout",
     "output_type": "stream",
     "text": [
      "25/25 [==============================] - ETA: 0s - loss: 165.2161  "
     ]
    },
    {
     "name": "stderr",
     "output_type": "stream",
     "text": [
      "2025-07-20 09:31:21.570880: I tensorflow/core/common_runtime/executor.cc:1197] [/device:CPU:0] (DEBUG INFO) Executor start aborting (this does not indicate an error and you can ignore this message): INVALID_ARGUMENT: You must feed a value for placeholder tensor 'gradients/split_2_grad/concat/split_2/split_dim' with dtype int32\n",
      "\t [[{{node gradients/split_2_grad/concat/split_2/split_dim}}]]\n",
      "2025-07-20 09:31:21.572935: I tensorflow/core/common_runtime/executor.cc:1197] [/device:CPU:0] (DEBUG INFO) Executor start aborting (this does not indicate an error and you can ignore this message): INVALID_ARGUMENT: You must feed a value for placeholder tensor 'gradients/split_grad/concat/split/split_dim' with dtype int32\n",
      "\t [[{{node gradients/split_grad/concat/split/split_dim}}]]\n",
      "2025-07-20 09:31:21.574422: I tensorflow/core/common_runtime/executor.cc:1197] [/device:CPU:0] (DEBUG INFO) Executor start aborting (this does not indicate an error and you can ignore this message): INVALID_ARGUMENT: You must feed a value for placeholder tensor 'gradients/split_1_grad/concat/split_1/split_dim' with dtype int32\n",
      "\t [[{{node gradients/split_1_grad/concat/split_1/split_dim}}]]\n",
      "2025-07-20 09:31:21.726025: I tensorflow/core/common_runtime/executor.cc:1197] [/device:CPU:0] (DEBUG INFO) Executor start aborting (this does not indicate an error and you can ignore this message): INVALID_ARGUMENT: You must feed a value for placeholder tensor 'gradients/ReverseV2_grad/ReverseV2/ReverseV2/axis' with dtype int32 and shape [1]\n",
      "\t [[{{node gradients/ReverseV2_grad/ReverseV2/ReverseV2/axis}}]]\n",
      "2025-07-20 09:31:21.781701: I tensorflow/core/common_runtime/executor.cc:1197] [/device:CPU:0] (DEBUG INFO) Executor start aborting (this does not indicate an error and you can ignore this message): INVALID_ARGUMENT: You must feed a value for placeholder tensor 'gradients/split_2_grad/concat/split_2/split_dim' with dtype int32\n",
      "\t [[{{node gradients/split_2_grad/concat/split_2/split_dim}}]]\n",
      "2025-07-20 09:31:21.783653: I tensorflow/core/common_runtime/executor.cc:1197] [/device:CPU:0] (DEBUG INFO) Executor start aborting (this does not indicate an error and you can ignore this message): INVALID_ARGUMENT: You must feed a value for placeholder tensor 'gradients/split_grad/concat/split/split_dim' with dtype int32\n",
      "\t [[{{node gradients/split_grad/concat/split/split_dim}}]]\n",
      "2025-07-20 09:31:21.785754: I tensorflow/core/common_runtime/executor.cc:1197] [/device:CPU:0] (DEBUG INFO) Executor start aborting (this does not indicate an error and you can ignore this message): INVALID_ARGUMENT: You must feed a value for placeholder tensor 'gradients/split_1_grad/concat/split_1/split_dim' with dtype int32\n",
      "\t [[{{node gradients/split_1_grad/concat/split_1/split_dim}}]]\n",
      "2025-07-20 09:31:22.049090: I tensorflow/core/common_runtime/executor.cc:1197] [/device:CPU:0] (DEBUG INFO) Executor start aborting (this does not indicate an error and you can ignore this message): INVALID_ARGUMENT: You must feed a value for placeholder tensor 'gradients/split_2_grad/concat/split_2/split_dim' with dtype int32\n",
      "\t [[{{node gradients/split_2_grad/concat/split_2/split_dim}}]]\n",
      "2025-07-20 09:31:22.051053: I tensorflow/core/common_runtime/executor.cc:1197] [/device:CPU:0] (DEBUG INFO) Executor start aborting (this does not indicate an error and you can ignore this message): INVALID_ARGUMENT: You must feed a value for placeholder tensor 'gradients/split_grad/concat/split/split_dim' with dtype int32\n",
      "\t [[{{node gradients/split_grad/concat/split/split_dim}}]]\n",
      "2025-07-20 09:31:22.052573: I tensorflow/core/common_runtime/executor.cc:1197] [/device:CPU:0] (DEBUG INFO) Executor start aborting (this does not indicate an error and you can ignore this message): INVALID_ARGUMENT: You must feed a value for placeholder tensor 'gradients/split_1_grad/concat/split_1/split_dim' with dtype int32\n",
      "\t [[{{node gradients/split_1_grad/concat/split_1/split_dim}}]]\n",
      "2025-07-20 09:31:22.231227: I tensorflow/core/common_runtime/executor.cc:1197] [/device:CPU:0] (DEBUG INFO) Executor start aborting (this does not indicate an error and you can ignore this message): INVALID_ARGUMENT: You must feed a value for placeholder tensor 'gradients/ReverseV2_grad/ReverseV2/ReverseV2/axis' with dtype int32 and shape [1]\n",
      "\t [[{{node gradients/ReverseV2_grad/ReverseV2/ReverseV2/axis}}]]\n",
      "2025-07-20 09:31:22.299391: I tensorflow/core/common_runtime/executor.cc:1197] [/device:CPU:0] (DEBUG INFO) Executor start aborting (this does not indicate an error and you can ignore this message): INVALID_ARGUMENT: You must feed a value for placeholder tensor 'gradients/split_2_grad/concat/split_2/split_dim' with dtype int32\n",
      "\t [[{{node gradients/split_2_grad/concat/split_2/split_dim}}]]\n",
      "2025-07-20 09:31:22.301221: I tensorflow/core/common_runtime/executor.cc:1197] [/device:CPU:0] (DEBUG INFO) Executor start aborting (this does not indicate an error and you can ignore this message): INVALID_ARGUMENT: You must feed a value for placeholder tensor 'gradients/split_grad/concat/split/split_dim' with dtype int32\n",
      "\t [[{{node gradients/split_grad/concat/split/split_dim}}]]\n",
      "2025-07-20 09:31:22.302678: I tensorflow/core/common_runtime/executor.cc:1197] [/device:CPU:0] (DEBUG INFO) Executor start aborting (this does not indicate an error and you can ignore this message): INVALID_ARGUMENT: You must feed a value for placeholder tensor 'gradients/split_1_grad/concat/split_1/split_dim' with dtype int32\n",
      "\t [[{{node gradients/split_1_grad/concat/split_1/split_dim}}]]\n",
      "2025-07-20 09:31:22.393529: I tensorflow/core/common_runtime/executor.cc:1197] [/device:CPU:0] (DEBUG INFO) Executor start aborting (this does not indicate an error and you can ignore this message): INVALID_ARGUMENT: You must feed a value for placeholder tensor 'CTCLoss/scan/while/Fill/CTCLoss/stack_1' with dtype int32 and shape [1]\n",
      "\t [[{{node CTCLoss/scan/while/Fill/CTCLoss/stack_1}}]]\n",
      "2025-07-20 09:31:22.393642: I tensorflow/core/common_runtime/executor.cc:1197] [/device:CPU:0] (DEBUG INFO) Executor start aborting (this does not indicate an error and you can ignore this message): INVALID_ARGUMENT: You must feed a value for placeholder tensor 'CTCLoss/scan/while/Fill/CTCLoss/stack_1' with dtype int32 and shape [1]\n",
      "\t [[{{node CTCLoss/scan/while/Fill/CTCLoss/stack_1}}]]\n",
      "[mpeg1video @ 0x752e700c0300] ac-tex damaged at 22 17\n",
      "[mpeg1video @ 0x752e700c0300] Warning MVs not available\n",
      "[mpeg1video @ 0x752e18061fc0] ac-tex damaged at 22 17\n",
      "[mpeg1video @ 0x752e18061fc0] Warning MVs not available\n",
      "2025-07-20 09:32:05.830770: I tensorflow/core/common_runtime/executor.cc:1197] [/device:CPU:0] (DEBUG INFO) Executor start aborting (this does not indicate an error and you can ignore this message): INVALID_ARGUMENT: You must feed a value for placeholder tensor 'gradients/split_2_grad/concat/split_2/split_dim' with dtype int32\n",
      "\t [[{{node gradients/split_2_grad/concat/split_2/split_dim}}]]\n",
      "2025-07-20 09:32:05.835656: I tensorflow/core/common_runtime/executor.cc:1197] [/device:CPU:0] (DEBUG INFO) Executor start aborting (this does not indicate an error and you can ignore this message): INVALID_ARGUMENT: You must feed a value for placeholder tensor 'gradients/split_grad/concat/split/split_dim' with dtype int32\n",
      "\t [[{{node gradients/split_grad/concat/split/split_dim}}]]\n",
      "2025-07-20 09:32:05.839114: I tensorflow/core/common_runtime/executor.cc:1197] [/device:CPU:0] (DEBUG INFO) Executor start aborting (this does not indicate an error and you can ignore this message): INVALID_ARGUMENT: You must feed a value for placeholder tensor 'gradients/split_1_grad/concat/split_1/split_dim' with dtype int32\n",
      "\t [[{{node gradients/split_1_grad/concat/split_1/split_dim}}]]\n",
      "2025-07-20 09:32:06.584137: I tensorflow/core/common_runtime/executor.cc:1197] [/device:CPU:0] (DEBUG INFO) Executor start aborting (this does not indicate an error and you can ignore this message): INVALID_ARGUMENT: You must feed a value for placeholder tensor 'gradients/ReverseV2_grad/ReverseV2/ReverseV2/axis' with dtype int32 and shape [1]\n",
      "\t [[{{node gradients/ReverseV2_grad/ReverseV2/ReverseV2/axis}}]]\n",
      "2025-07-20 09:32:06.802912: I tensorflow/core/common_runtime/executor.cc:1197] [/device:CPU:0] (DEBUG INFO) Executor start aborting (this does not indicate an error and you can ignore this message): INVALID_ARGUMENT: You must feed a value for placeholder tensor 'gradients/split_2_grad/concat/split_2/split_dim' with dtype int32\n",
      "\t [[{{node gradients/split_2_grad/concat/split_2/split_dim}}]]\n",
      "2025-07-20 09:32:06.813275: I tensorflow/core/common_runtime/executor.cc:1197] [/device:CPU:0] (DEBUG INFO) Executor start aborting (this does not indicate an error and you can ignore this message): INVALID_ARGUMENT: You must feed a value for placeholder tensor 'gradients/split_grad/concat/split/split_dim' with dtype int32\n",
      "\t [[{{node gradients/split_grad/concat/split/split_dim}}]]\n",
      "2025-07-20 09:32:06.824318: I tensorflow/core/common_runtime/executor.cc:1197] [/device:CPU:0] (DEBUG INFO) Executor start aborting (this does not indicate an error and you can ignore this message): INVALID_ARGUMENT: You must feed a value for placeholder tensor 'gradients/split_1_grad/concat/split_1/split_dim' with dtype int32\n",
      "\t [[{{node gradients/split_1_grad/concat/split_1/split_dim}}]]\n",
      "2025-07-20 09:32:07.646831: I tensorflow/core/common_runtime/executor.cc:1197] [/device:CPU:0] (DEBUG INFO) Executor start aborting (this does not indicate an error and you can ignore this message): INVALID_ARGUMENT: You must feed a value for placeholder tensor 'gradients/split_2_grad/concat/split_2/split_dim' with dtype int32\n",
      "\t [[{{node gradients/split_2_grad/concat/split_2/split_dim}}]]\n",
      "2025-07-20 09:32:07.649162: I tensorflow/core/common_runtime/executor.cc:1197] [/device:CPU:0] (DEBUG INFO) Executor start aborting (this does not indicate an error and you can ignore this message): INVALID_ARGUMENT: You must feed a value for placeholder tensor 'gradients/split_grad/concat/split/split_dim' with dtype int32\n",
      "\t [[{{node gradients/split_grad/concat/split/split_dim}}]]\n",
      "2025-07-20 09:32:07.657130: I tensorflow/core/common_runtime/executor.cc:1197] [/device:CPU:0] (DEBUG INFO) Executor start aborting (this does not indicate an error and you can ignore this message): INVALID_ARGUMENT: You must feed a value for placeholder tensor 'gradients/split_1_grad/concat/split_1/split_dim' with dtype int32\n",
      "\t [[{{node gradients/split_1_grad/concat/split_1/split_dim}}]]\n",
      "2025-07-20 09:32:08.194840: I tensorflow/core/common_runtime/executor.cc:1197] [/device:CPU:0] (DEBUG INFO) Executor start aborting (this does not indicate an error and you can ignore this message): INVALID_ARGUMENT: You must feed a value for placeholder tensor 'gradients/ReverseV2_grad/ReverseV2/ReverseV2/axis' with dtype int32 and shape [1]\n",
      "\t [[{{node gradients/ReverseV2_grad/ReverseV2/ReverseV2/axis}}]]\n",
      "2025-07-20 09:32:08.355627: I tensorflow/core/common_runtime/executor.cc:1197] [/device:CPU:0] (DEBUG INFO) Executor start aborting (this does not indicate an error and you can ignore this message): INVALID_ARGUMENT: You must feed a value for placeholder tensor 'gradients/split_2_grad/concat/split_2/split_dim' with dtype int32\n",
      "\t [[{{node gradients/split_2_grad/concat/split_2/split_dim}}]]\n",
      "2025-07-20 09:32:08.357209: I tensorflow/core/common_runtime/executor.cc:1197] [/device:CPU:0] (DEBUG INFO) Executor start aborting (this does not indicate an error and you can ignore this message): INVALID_ARGUMENT: You must feed a value for placeholder tensor 'gradients/split_grad/concat/split/split_dim' with dtype int32\n",
      "\t [[{{node gradients/split_grad/concat/split/split_dim}}]]\n",
      "2025-07-20 09:32:08.358614: I tensorflow/core/common_runtime/executor.cc:1197] [/device:CPU:0] (DEBUG INFO) Executor start aborting (this does not indicate an error and you can ignore this message): INVALID_ARGUMENT: You must feed a value for placeholder tensor 'gradients/split_1_grad/concat/split_1/split_dim' with dtype int32\n",
      "\t [[{{node gradients/split_1_grad/concat/split_1/split_dim}}]]\n"
     ]
    },
    {
     "name": "stdout",
     "output_type": "stream",
     "text": [
      "1/1 [==============================] - 4s 4s/step\n",
      "Original: place green at q six now\n",
      "Prediction: \n",
      "~~~~~~~~~~~~~~~~~~~~~~~~~~~~~~~~~~~~~~~~~~~~~~~~~~~~~~~~~~~~~~~~~~~~~~~~~~~~~~~~~~~~~~~~~~~~~~~~~~~~\n",
      "Original: place green with l zero now\n",
      "Prediction: \n",
      "~~~~~~~~~~~~~~~~~~~~~~~~~~~~~~~~~~~~~~~~~~~~~~~~~~~~~~~~~~~~~~~~~~~~~~~~~~~~~~~~~~~~~~~~~~~~~~~~~~~~\n",
      "25/25 [==============================] - 152s 6s/step - loss: 165.2161 - val_loss: 134.7539 - lr: 1.0000e-04\n",
      "Epoch 2/5\n",
      "25/25 [==============================] - ETA: 0s - loss: 138.4765  "
     ]
    },
    {
     "name": "stderr",
     "output_type": "stream",
     "text": [
      "[mpeg1video @ 0x752e800b39c0] ac-tex damaged at 22 17\n",
      "[mpeg1video @ 0x752e800b39c0] Warning MVs not available\n"
     ]
    },
    {
     "name": "stdout",
     "output_type": "stream",
     "text": [
      "1/1 [==============================] - 1s 1s/step\n",
      "Original: bin white by t seven soon\n",
      "Prediction: \n",
      "~~~~~~~~~~~~~~~~~~~~~~~~~~~~~~~~~~~~~~~~~~~~~~~~~~~~~~~~~~~~~~~~~~~~~~~~~~~~~~~~~~~~~~~~~~~~~~~~~~~~\n",
      "Original: lay blue sp at q five soon\n",
      "Prediction: \n",
      "~~~~~~~~~~~~~~~~~~~~~~~~~~~~~~~~~~~~~~~~~~~~~~~~~~~~~~~~~~~~~~~~~~~~~~~~~~~~~~~~~~~~~~~~~~~~~~~~~~~~\n",
      "25/25 [==============================] - 136s 5s/step - loss: 138.4765 - val_loss: 125.7809 - lr: 1.0000e-04\n",
      "Epoch 3/5\n",
      "19/25 [=====================>........] - ETA: 23s - loss: 130.3370 "
     ]
    },
    {
     "name": "stderr",
     "output_type": "stream",
     "text": [
      "[mpeg1video @ 0x752e74040480] ac-tex damaged at 22 17\n",
      "[mpeg1video @ 0x752e74040480] Warning MVs not available\n"
     ]
    },
    {
     "name": "stdout",
     "output_type": "stream",
     "text": [
      "25/25 [==============================] - ETA: 0s - loss: 129.4602 "
     ]
    },
    {
     "name": "stderr",
     "output_type": "stream",
     "text": [
      "[mpeg1video @ 0x752e04046ac0] ac-tex damaged at 22 17\n",
      "[mpeg1video @ 0x752e04046ac0] Warning MVs not available\n"
     ]
    },
    {
     "name": "stdout",
     "output_type": "stream",
     "text": [
      "1/1 [==============================] - 1s 999ms/step\n",
      "Original: lay red with r nine soon\n",
      "Prediction: \n",
      "~~~~~~~~~~~~~~~~~~~~~~~~~~~~~~~~~~~~~~~~~~~~~~~~~~~~~~~~~~~~~~~~~~~~~~~~~~~~~~~~~~~~~~~~~~~~~~~~~~~~\n",
      "Original: set green at p three again\n",
      "Prediction: \n",
      "~~~~~~~~~~~~~~~~~~~~~~~~~~~~~~~~~~~~~~~~~~~~~~~~~~~~~~~~~~~~~~~~~~~~~~~~~~~~~~~~~~~~~~~~~~~~~~~~~~~~\n",
      "25/25 [==============================] - 141s 6s/step - loss: 129.4602 - val_loss: 119.3519 - lr: 1.0000e-04\n",
      "Epoch 4/5\n",
      "18/25 [====================>.........] - ETA: 25s - loss: 125.3121 "
     ]
    },
    {
     "name": "stderr",
     "output_type": "stream",
     "text": [
      "[mpeg1video @ 0x752e781975c0] ac-tex damaged at 22 17\n",
      "[mpeg1video @ 0x752e781975c0] Warning MVs not available\n"
     ]
    },
    {
     "name": "stdout",
     "output_type": "stream",
     "text": [
      "25/25 [==============================] - ETA: 0s - loss: 125.3121 "
     ]
    },
    {
     "name": "stderr",
     "output_type": "stream",
     "text": [
      "[mpeg1video @ 0x752e18076b40] ac-tex damaged at 22 17\n",
      "[mpeg1video @ 0x752e18076b40] Warning MVs not available\n"
     ]
    },
    {
     "name": "stdout",
     "output_type": "stream",
     "text": [
      "1/1 [==============================] - 1s 579ms/step\n",
      "Original: lay red in y three again\n",
      "Prediction: \n",
      "~~~~~~~~~~~~~~~~~~~~~~~~~~~~~~~~~~~~~~~~~~~~~~~~~~~~~~~~~~~~~~~~~~~~~~~~~~~~~~~~~~~~~~~~~~~~~~~~~~~~\n",
      "Original: place red by j five soon\n",
      "Prediction: \n",
      "~~~~~~~~~~~~~~~~~~~~~~~~~~~~~~~~~~~~~~~~~~~~~~~~~~~~~~~~~~~~~~~~~~~~~~~~~~~~~~~~~~~~~~~~~~~~~~~~~~~~\n",
      "25/25 [==============================] - 137s 5s/step - loss: 125.3121 - val_loss: 118.1676 - lr: 1.0000e-04\n",
      "Epoch 5/5\n",
      " 3/25 [==>...........................] - ETA: 1:16 - loss: 124.6026"
     ]
    },
    {
     "name": "stderr",
     "output_type": "stream",
     "text": [
      "[mpeg1video @ 0x752e8c179cc0] ac-tex damaged at 22 17\n",
      "[mpeg1video @ 0x752e8c179cc0] Warning MVs not available\n"
     ]
    },
    {
     "name": "stdout",
     "output_type": "stream",
     "text": [
      "25/25 [==============================] - ETA: 0s - loss: 120.5958  "
     ]
    },
    {
     "name": "stderr",
     "output_type": "stream",
     "text": [
      "[mpeg1video @ 0x752e64050080] ac-tex damaged at 22 17\n",
      "[mpeg1video @ 0x752e64050080] Warning MVs not available\n"
     ]
    },
    {
     "name": "stdout",
     "output_type": "stream",
     "text": [
      "1/1 [==============================] - 1s 644ms/step\n",
      "Original: set red in t eight now\n",
      "Prediction: \n",
      "~~~~~~~~~~~~~~~~~~~~~~~~~~~~~~~~~~~~~~~~~~~~~~~~~~~~~~~~~~~~~~~~~~~~~~~~~~~~~~~~~~~~~~~~~~~~~~~~~~~~\n",
      "Original: bin white at m nine soon\n",
      "Prediction: \n",
      "~~~~~~~~~~~~~~~~~~~~~~~~~~~~~~~~~~~~~~~~~~~~~~~~~~~~~~~~~~~~~~~~~~~~~~~~~~~~~~~~~~~~~~~~~~~~~~~~~~~~\n",
      "25/25 [==============================] - 137s 5s/step - loss: 120.5958 - val_loss: 114.5396 - lr: 1.0000e-04\n"
     ]
    },
    {
     "data": {
      "text/plain": [
       "<keras.callbacks.History at 0x752e0865ce20>"
      ]
     },
     "execution_count": 51,
     "metadata": {},
     "output_type": "execute_result"
    }
   ],
   "source": [
    "model.fit(train, validation_data=test, epochs=5, callbacks=[checkpoint_callback, schedule_callback, example_callback])"
   ]
  },
  {
   "cell_type": "markdown",
   "id": "b9133caa-abc5-4f26-b421-fda3435c9305",
   "metadata": {},
   "source": [
    "### 5. Make a Prediction"
   ]
  },
  {
   "cell_type": "code",
   "execution_count": 52,
   "id": "33711203-32d5-4f7e-bd76-c4da91fc4748",
   "metadata": {},
   "outputs": [
    {
     "data": {
      "text/plain": [
       "7"
      ]
     },
     "execution_count": 52,
     "metadata": {},
     "output_type": "execute_result"
    }
   ],
   "source": [
    "len(test)"
   ]
  },
  {
   "cell_type": "code",
   "execution_count": 53,
   "id": "409af43a-c679-4805-83de-8977a673168d",
   "metadata": {},
   "outputs": [],
   "source": [
    "test_data = test.as_numpy_iterator()"
   ]
  },
  {
   "cell_type": "code",
   "execution_count": 54,
   "id": "5248d4d1-4ed1-4b34-8e0b-2109ab3d8f49",
   "metadata": {
    "scrolled": true
   },
   "outputs": [
    {
     "name": "stderr",
     "output_type": "stream",
     "text": [
      "[mpeg1video @ 0x752e104efb00] ac-tex damaged at 22 17\n",
      "[mpeg1video @ 0x752e104efb00] Warning MVs not available\n"
     ]
    },
    {
     "data": {
      "text/plain": [
       "(array([[[[[10.348085  ],\n",
       "           [10.348085  ],\n",
       "           [10.348085  ],\n",
       "           ...,\n",
       "           [10.348085  ],\n",
       "           [10.348085  ],\n",
       "           [10.348085  ]],\n",
       " \n",
       "          [[10.348085  ],\n",
       "           [10.348085  ],\n",
       "           [10.348085  ],\n",
       "           ...,\n",
       "           [10.348085  ],\n",
       "           [10.348085  ],\n",
       "           [10.348085  ]],\n",
       " \n",
       "          [[10.348085  ],\n",
       "           [10.348085  ],\n",
       "           [10.348085  ],\n",
       "           ...,\n",
       "           [10.348085  ],\n",
       "           [10.348085  ],\n",
       "           [10.348085  ]],\n",
       " \n",
       "          ...,\n",
       " \n",
       "          [[10.348085  ],\n",
       "           [10.348085  ],\n",
       "           [10.348085  ],\n",
       "           ...,\n",
       "           [10.348085  ],\n",
       "           [10.348085  ],\n",
       "           [10.348085  ]],\n",
       " \n",
       "          [[10.348085  ],\n",
       "           [10.348085  ],\n",
       "           [10.348085  ],\n",
       "           ...,\n",
       "           [10.348085  ],\n",
       "           [10.348085  ],\n",
       "           [10.348085  ]],\n",
       " \n",
       "          [[10.348085  ],\n",
       "           [10.348085  ],\n",
       "           [10.348085  ],\n",
       "           ...,\n",
       "           [10.348085  ],\n",
       "           [10.348085  ],\n",
       "           [10.348085  ]]],\n",
       " \n",
       " \n",
       "         [[[10.3061905 ],\n",
       "           [10.3061905 ],\n",
       "           [10.3061905 ],\n",
       "           ...,\n",
       "           [10.3061905 ],\n",
       "           [10.3061905 ],\n",
       "           [10.3061905 ]],\n",
       " \n",
       "          [[10.3061905 ],\n",
       "           [10.3061905 ],\n",
       "           [10.3061905 ],\n",
       "           ...,\n",
       "           [10.3061905 ],\n",
       "           [10.3061905 ],\n",
       "           [10.3061905 ]],\n",
       " \n",
       "          [[10.264295  ],\n",
       "           [10.264295  ],\n",
       "           [10.264295  ],\n",
       "           ...,\n",
       "           [10.264295  ],\n",
       "           [10.2224    ],\n",
       "           [10.2224    ]],\n",
       " \n",
       "          ...,\n",
       " \n",
       "          [[10.3061905 ],\n",
       "           [10.3061905 ],\n",
       "           [10.3061905 ],\n",
       "           ...,\n",
       "           [10.3061905 ],\n",
       "           [10.3061905 ],\n",
       "           [10.3061905 ]],\n",
       " \n",
       "          [[10.3061905 ],\n",
       "           [10.3061905 ],\n",
       "           [10.3061905 ],\n",
       "           ...,\n",
       "           [10.3061905 ],\n",
       "           [10.3061905 ],\n",
       "           [10.3061905 ]],\n",
       " \n",
       "          [[10.3061905 ],\n",
       "           [10.3061905 ],\n",
       "           [10.3061905 ],\n",
       "           ...,\n",
       "           [10.3061905 ],\n",
       "           [10.3061905 ],\n",
       "           [10.3061905 ]]],\n",
       " \n",
       " \n",
       "         [[[10.264295  ],\n",
       "           [10.264295  ],\n",
       "           [10.264295  ],\n",
       "           ...,\n",
       "           [10.557561  ],\n",
       "           [10.683246  ],\n",
       "           [10.641351  ]],\n",
       " \n",
       "          [[10.264295  ],\n",
       "           [10.264295  ],\n",
       "           [10.264295  ],\n",
       "           ...,\n",
       "           [10.47377   ],\n",
       "           [10.557561  ],\n",
       "           [10.557561  ]],\n",
       " \n",
       "          [[10.264295  ],\n",
       "           [10.264295  ],\n",
       "           [10.3061905 ],\n",
       "           ...,\n",
       "           [10.515666  ],\n",
       "           [10.431875  ],\n",
       "           [10.431875  ]],\n",
       " \n",
       "          ...,\n",
       " \n",
       "          [[ 0.79600656],\n",
       "           [ 0.79600656],\n",
       "           [ 0.7122164 ],\n",
       "           ...,\n",
       "           [10.3061905 ],\n",
       "           [10.3061905 ],\n",
       "           [10.3061905 ]],\n",
       " \n",
       "          [[ 1.005482  ],\n",
       "           [ 1.005482  ],\n",
       "           [ 0.96358687],\n",
       "           ...,\n",
       "           [10.3061905 ],\n",
       "           [10.3061905 ],\n",
       "           [10.3061905 ]],\n",
       " \n",
       "          [[ 1.005482  ],\n",
       "           [ 1.005482  ],\n",
       "           [ 0.96358687],\n",
       "           ...,\n",
       "           [10.3061905 ],\n",
       "           [10.3061905 ],\n",
       "           [10.3061905 ]]],\n",
       " \n",
       " \n",
       "         ...,\n",
       " \n",
       " \n",
       "         [[[ 1.4244328 ],\n",
       "           [ 1.4244328 ],\n",
       "           [ 1.5082229 ],\n",
       "           ...,\n",
       "           [ 0.        ],\n",
       "           [ 0.04189508],\n",
       "           [ 0.04189508]],\n",
       " \n",
       "          [[ 1.4244328 ],\n",
       "           [ 1.4244328 ],\n",
       "           [ 1.5082229 ],\n",
       "           ...,\n",
       "           [ 0.        ],\n",
       "           [ 0.04189508],\n",
       "           [ 0.04189508]],\n",
       " \n",
       "          [[ 1.4244328 ],\n",
       "           [ 1.4244328 ],\n",
       "           [ 1.4244328 ],\n",
       "           ...,\n",
       "           [ 0.        ],\n",
       "           [ 0.        ],\n",
       "           [ 0.        ]],\n",
       " \n",
       "          ...,\n",
       " \n",
       "          [[ 0.96358687],\n",
       "           [ 0.96358687],\n",
       "           [ 0.96358687],\n",
       "           ...,\n",
       "           [10.38998   ],\n",
       "           [10.38998   ],\n",
       "           [10.38998   ]],\n",
       " \n",
       "          [[ 0.96358687],\n",
       "           [ 0.96358687],\n",
       "           [ 0.96358687],\n",
       "           ...,\n",
       "           [10.431875  ],\n",
       "           [10.38998   ],\n",
       "           [10.38998   ]],\n",
       " \n",
       "          [[ 0.96358687],\n",
       "           [ 0.96358687],\n",
       "           [ 0.96358687],\n",
       "           ...,\n",
       "           [10.431875  ],\n",
       "           [10.38998   ],\n",
       "           [10.38998   ]]],\n",
       " \n",
       " \n",
       "         [[[ 1.5082229 ],\n",
       "           [ 1.5082229 ],\n",
       "           [ 1.5082229 ],\n",
       "           ...,\n",
       "           [ 0.        ],\n",
       "           [ 0.        ],\n",
       "           [ 0.        ]],\n",
       " \n",
       "          [[ 1.4244328 ],\n",
       "           [ 1.4244328 ],\n",
       "           [ 1.4244328 ],\n",
       "           ...,\n",
       "           [ 0.        ],\n",
       "           [ 0.        ],\n",
       "           [ 0.        ]],\n",
       " \n",
       "          [[ 1.4244328 ],\n",
       "           [ 1.4244328 ],\n",
       "           [ 1.4244328 ],\n",
       "           ...,\n",
       "           [ 0.        ],\n",
       "           [ 0.        ],\n",
       "           [ 0.        ]],\n",
       " \n",
       "          ...,\n",
       " \n",
       "          [[ 0.96358687],\n",
       "           [ 0.96358687],\n",
       "           [ 0.96358687],\n",
       "           ...,\n",
       "           [10.38998   ],\n",
       "           [10.38998   ],\n",
       "           [10.38998   ]],\n",
       " \n",
       "          [[ 1.005482  ],\n",
       "           [ 1.005482  ],\n",
       "           [ 1.005482  ],\n",
       "           ...,\n",
       "           [10.47377   ],\n",
       "           [10.38998   ],\n",
       "           [10.38998   ]],\n",
       " \n",
       "          [[ 1.005482  ],\n",
       "           [ 1.005482  ],\n",
       "           [ 1.005482  ],\n",
       "           ...,\n",
       "           [10.47377   ],\n",
       "           [10.38998   ],\n",
       "           [10.38998   ]]],\n",
       " \n",
       " \n",
       "         [[[ 1.5082229 ],\n",
       "           [ 1.5082229 ],\n",
       "           [ 1.5082229 ],\n",
       "           ...,\n",
       "           [10.683246  ],\n",
       "           [10.683246  ],\n",
       "           [10.683246  ]],\n",
       " \n",
       "          [[ 1.4244328 ],\n",
       "           [ 1.4244328 ],\n",
       "           [ 1.4244328 ],\n",
       "           ...,\n",
       "           [10.683246  ],\n",
       "           [10.683246  ],\n",
       "           [10.683246  ]],\n",
       " \n",
       "          [[ 1.4244328 ],\n",
       "           [ 1.4244328 ],\n",
       "           [ 1.4244328 ],\n",
       "           ...,\n",
       "           [ 0.        ],\n",
       "           [ 0.        ],\n",
       "           [ 0.        ]],\n",
       " \n",
       "          ...,\n",
       " \n",
       "          [[ 0.96358687],\n",
       "           [ 0.96358687],\n",
       "           [ 0.96358687],\n",
       "           ...,\n",
       "           [10.38998   ],\n",
       "           [10.38998   ],\n",
       "           [10.38998   ]],\n",
       " \n",
       "          [[ 1.005482  ],\n",
       "           [ 1.005482  ],\n",
       "           [ 1.005482  ],\n",
       "           ...,\n",
       "           [10.431875  ],\n",
       "           [10.38998   ],\n",
       "           [10.38998   ]],\n",
       " \n",
       "          [[ 1.005482  ],\n",
       "           [ 1.005482  ],\n",
       "           [ 1.005482  ],\n",
       "           ...,\n",
       "           [10.431875  ],\n",
       "           [10.38998   ],\n",
       "           [10.38998   ]]]],\n",
       " \n",
       " \n",
       " \n",
       "        [[[[ 1.4232442 ],\n",
       "           [ 1.4232442 ],\n",
       "           [ 1.5001764 ],\n",
       "           ...,\n",
       "           [ 0.26926243],\n",
       "           [ 0.19233032],\n",
       "           [ 0.19233032]],\n",
       " \n",
       "          [[ 1.4232442 ],\n",
       "           [ 1.4232442 ],\n",
       "           [ 1.5001764 ],\n",
       "           ...,\n",
       "           [ 0.26926243],\n",
       "           [ 0.19233032],\n",
       "           [ 0.19233032]],\n",
       " \n",
       "          [[ 1.3078461 ],\n",
       "           [ 1.3078461 ],\n",
       "           [ 1.3078461 ],\n",
       "           ...,\n",
       "           [ 0.23079637],\n",
       "           [ 0.15386425],\n",
       "           [ 0.15386425]],\n",
       " \n",
       "          ...,\n",
       " \n",
       "          [[ 0.96165156],\n",
       "           [ 0.96165156],\n",
       "           [ 0.92318547],\n",
       "           ...,\n",
       "           [ 9.654982  ],\n",
       "           [ 9.693448  ],\n",
       "           [ 9.693448  ]],\n",
       " \n",
       "          [[ 0.96165156],\n",
       "           [ 0.96165156],\n",
       "           [ 0.92318547],\n",
       "           ...,\n",
       "           [ 9.501118  ],\n",
       "           [ 9.501118  ],\n",
       "           [ 9.539583  ]],\n",
       " \n",
       "          [[ 0.96165156],\n",
       "           [ 0.96165156],\n",
       "           [ 0.92318547],\n",
       "           ...,\n",
       "           [ 9.539583  ],\n",
       "           [ 9.462651  ],\n",
       "           [ 9.501118  ]]],\n",
       " \n",
       " \n",
       "         [[[ 1.4232442 ],\n",
       "           [ 1.4232442 ],\n",
       "           [ 1.5001764 ],\n",
       "           ...,\n",
       "           [ 0.19233032],\n",
       "           [ 0.11539818],\n",
       "           [ 0.11539818]],\n",
       " \n",
       "          [[ 1.4232442 ],\n",
       "           [ 1.4232442 ],\n",
       "           [ 1.5001764 ],\n",
       "           ...,\n",
       "           [ 0.19233032],\n",
       "           [ 0.11539818],\n",
       "           [ 0.11539818]],\n",
       " \n",
       "          [[ 1.3078461 ],\n",
       "           [ 1.3078461 ],\n",
       "           [ 1.3078461 ],\n",
       "           ...,\n",
       "           [ 0.15386425],\n",
       "           [ 0.15386425],\n",
       "           [ 0.15386425]],\n",
       " \n",
       "          ...,\n",
       " \n",
       "          [[ 1.0001177 ],\n",
       "           [ 1.0001177 ],\n",
       "           [ 0.96165156],\n",
       "           ...,\n",
       "           [ 9.539583  ],\n",
       "           [ 9.77038   ],\n",
       "           [ 9.8088455 ]],\n",
       " \n",
       "          [[ 1.0001177 ],\n",
       "           [ 1.0001177 ],\n",
       "           [ 0.96165156],\n",
       "           ...,\n",
       "           [ 9.385719  ],\n",
       "           [ 9.654982  ],\n",
       "           [ 9.77038   ]],\n",
       " \n",
       "          [[ 1.0001177 ],\n",
       "           [ 1.0001177 ],\n",
       "           [ 0.96165156],\n",
       "           ...,\n",
       "           [ 9.385719  ],\n",
       "           [ 9.654982  ],\n",
       "           [ 9.693448  ]]],\n",
       " \n",
       " \n",
       "         [[[ 1.3847783 ],\n",
       "           [ 1.3847783 ],\n",
       "           [ 1.4232442 ],\n",
       "           ...,\n",
       "           [ 0.3077285 ],\n",
       "           [ 0.23079637],\n",
       "           [ 0.23079637]],\n",
       " \n",
       "          [[ 1.3847783 ],\n",
       "           [ 1.3847783 ],\n",
       "           [ 1.4232442 ],\n",
       "           ...,\n",
       "           [ 0.3077285 ],\n",
       "           [ 0.23079637],\n",
       "           [ 0.23079637]],\n",
       " \n",
       "          [[ 1.4232442 ],\n",
       "           [ 1.4232442 ],\n",
       "           [ 1.5001764 ],\n",
       "           ...,\n",
       "           [ 0.23079637],\n",
       "           [ 0.15386425],\n",
       "           [ 0.15386425]],\n",
       " \n",
       "          ...,\n",
       " \n",
       "          [[ 1.0001177 ],\n",
       "           [ 1.0001177 ],\n",
       "           [ 0.96165156],\n",
       "           ...,\n",
       "           [ 9.539583  ],\n",
       "           [ 9.731914  ],\n",
       "           [ 9.8088455 ]],\n",
       " \n",
       "          [[ 0.96165156],\n",
       "           [ 0.96165156],\n",
       "           [ 0.92318547],\n",
       "           ...,\n",
       "           [ 9.347253  ],\n",
       "           [ 9.616515  ],\n",
       "           [ 9.8088455 ]],\n",
       " \n",
       "          [[ 0.96165156],\n",
       "           [ 0.96165156],\n",
       "           [ 0.92318547],\n",
       "           ...,\n",
       "           [ 9.347253  ],\n",
       "           [ 9.616515  ],\n",
       "           [ 9.731914  ]]],\n",
       " \n",
       " \n",
       "         ...,\n",
       " \n",
       " \n",
       "         [[[ 1.3847783 ],\n",
       "           [ 1.3847783 ],\n",
       "           [ 1.3463122 ],\n",
       "           ...,\n",
       "           [ 0.11539818],\n",
       "           [ 0.15386425],\n",
       "           [ 0.15386425]],\n",
       " \n",
       "          [[ 1.3463122 ],\n",
       "           [ 1.3463122 ],\n",
       "           [ 1.3078461 ],\n",
       "           ...,\n",
       "           [ 0.11539818],\n",
       "           [ 0.15386425],\n",
       "           [ 0.15386425]],\n",
       " \n",
       "          [[ 1.3463122 ],\n",
       "           [ 1.3463122 ],\n",
       "           [ 1.3463122 ],\n",
       "           ...,\n",
       "           [ 0.23079637],\n",
       "           [ 0.23079637],\n",
       "           [ 0.15386425]],\n",
       " \n",
       "          ...,\n",
       " \n",
       "          [[ 0.92318547],\n",
       "           [ 0.92318547],\n",
       "           [ 0.92318547],\n",
       "           ...,\n",
       "           [ 9.693448  ],\n",
       "           [ 9.693448  ],\n",
       "           [ 9.616515  ]],\n",
       " \n",
       "          [[ 0.92318547],\n",
       "           [ 0.92318547],\n",
       "           [ 0.92318547],\n",
       "           ...,\n",
       "           [ 9.501118  ],\n",
       "           [ 9.57805   ],\n",
       "           [ 9.57805   ]],\n",
       " \n",
       "          [[ 0.92318547],\n",
       "           [ 0.92318547],\n",
       "           [ 0.92318547],\n",
       "           ...,\n",
       "           [ 9.501118  ],\n",
       "           [ 9.539583  ],\n",
       "           [ 9.539583  ]]],\n",
       " \n",
       " \n",
       "         [[[ 1.3847783 ],\n",
       "           [ 1.3847783 ],\n",
       "           [ 1.3078461 ],\n",
       "           ...,\n",
       "           [ 0.07693212],\n",
       "           [ 0.11539818],\n",
       "           [ 0.11539818]],\n",
       " \n",
       "          [[ 1.3463122 ],\n",
       "           [ 1.3463122 ],\n",
       "           [ 1.2693801 ],\n",
       "           ...,\n",
       "           [ 0.07693212],\n",
       "           [ 0.11539818],\n",
       "           [ 0.11539818]],\n",
       " \n",
       "          [[ 1.3847783 ],\n",
       "           [ 1.3847783 ],\n",
       "           [ 1.3847783 ],\n",
       "           ...,\n",
       "           [ 0.23079637],\n",
       "           [ 0.23079637],\n",
       "           [ 0.15386425]],\n",
       " \n",
       "          ...,\n",
       " \n",
       "          [[ 0.96165156],\n",
       "           [ 0.96165156],\n",
       "           [ 0.96165156],\n",
       "           ...,\n",
       "           [ 9.77038   ],\n",
       "           [ 9.77038   ],\n",
       "           [ 9.731914  ]],\n",
       " \n",
       "          [[ 0.96165156],\n",
       "           [ 0.96165156],\n",
       "           [ 0.96165156],\n",
       "           ...,\n",
       "           [ 9.693448  ],\n",
       "           [ 9.693448  ],\n",
       "           [ 9.616515  ]],\n",
       " \n",
       "          [[ 0.96165156],\n",
       "           [ 0.96165156],\n",
       "           [ 0.96165156],\n",
       "           ...,\n",
       "           [ 9.654982  ],\n",
       "           [ 9.57805   ],\n",
       "           [ 9.57805   ]]],\n",
       " \n",
       " \n",
       "         [[[ 1.3463122 ],\n",
       "           [ 1.3463122 ],\n",
       "           [ 1.3078461 ],\n",
       "           ...,\n",
       "           [ 0.15386425],\n",
       "           [ 0.19233032],\n",
       "           [ 0.19233032]],\n",
       " \n",
       "          [[ 1.3463122 ],\n",
       "           [ 1.3463122 ],\n",
       "           [ 1.3078461 ],\n",
       "           ...,\n",
       "           [ 0.15386425],\n",
       "           [ 0.19233032],\n",
       "           [ 0.19233032]],\n",
       " \n",
       "          [[ 1.3463122 ],\n",
       "           [ 1.3463122 ],\n",
       "           [ 1.3463122 ],\n",
       "           ...,\n",
       "           [ 0.15386425],\n",
       "           [ 0.15386425],\n",
       "           [ 0.15386425]],\n",
       " \n",
       "          ...,\n",
       " \n",
       "          [[ 0.96165156],\n",
       "           [ 0.96165156],\n",
       "           [ 0.96165156],\n",
       "           ...,\n",
       "           [ 9.77038   ],\n",
       "           [ 9.77038   ],\n",
       "           [ 9.654982  ]],\n",
       " \n",
       "          [[ 0.96165156],\n",
       "           [ 0.96165156],\n",
       "           [ 0.96165156],\n",
       "           ...,\n",
       "           [ 9.693448  ],\n",
       "           [ 9.693448  ],\n",
       "           [ 9.57805   ]],\n",
       " \n",
       "          [[ 0.96165156],\n",
       "           [ 0.96165156],\n",
       "           [ 0.96165156],\n",
       "           ...,\n",
       "           [ 9.616515  ],\n",
       "           [ 9.57805   ],\n",
       "           [ 9.57805   ]]]]], dtype=float32),\n",
       " array([[12,  1, 25, 39,  7, 18,  5,  5, 14, 39,  2, 25, 39,  6, 39,  5,\n",
       "          9,  7,  8, 20, 39, 14, 15, 23,  0,  0,  0,  0,  0,  0,  0,  0,\n",
       "          0,  0,  0,  0,  0,  0,  0,  0],\n",
       "        [ 2,  9, 14, 39,  7, 18,  5,  5, 14, 39,  2, 25, 39, 21, 39, 20,\n",
       "          8, 18,  5,  5, 39, 19, 15, 15, 14,  0,  0,  0,  0,  0,  0,  0,\n",
       "          0,  0,  0,  0,  0,  0,  0,  0]]))"
      ]
     },
     "execution_count": 54,
     "metadata": {},
     "output_type": "execute_result"
    }
   ],
   "source": [
    "test_data.next()"
   ]
  },
  {
   "cell_type": "code",
   "execution_count": 55,
   "id": "a71eced5-d966-4f48-92d3-973b3bd35724",
   "metadata": {},
   "outputs": [],
   "source": [
    "sample = test_data.next()"
   ]
  },
  {
   "cell_type": "code",
   "execution_count": 56,
   "id": "ae2cd4d7-097d-41d9-be59-39f7ab19e05d",
   "metadata": {},
   "outputs": [
    {
     "name": "stdout",
     "output_type": "stream",
     "text": [
      "1/1 [==============================] - 2s 2s/step\n"
     ]
    }
   ],
   "source": [
    "yhat = model.predict(sample[0])"
   ]
  },
  {
   "cell_type": "code",
   "execution_count": 57,
   "id": "f7d6180f-cd8a-4f21-a1bb-2496c0c62a33",
   "metadata": {},
   "outputs": [],
   "source": [
    "decoded = tf.keras.backend.ctc_decode(yhat, [75,75], greedy=False)[0][0].numpy()"
   ]
  },
  {
   "cell_type": "code",
   "execution_count": 58,
   "id": "c79666dc-7902-425f-b62b-24453e1742c4",
   "metadata": {},
   "outputs": [
    {
     "name": "stdout",
     "output_type": "stream",
     "text": [
      "~~~~~~~~~~~~~~~~~~~~~~~~~~~~~~~~~~~~~~~~~~~~~~~~~~~~~~~~~~~~~~~~~~~~~~~~~~~~~~~~~~~~~~~~~~~~~~~~~~~~ PREDICTIONS\n"
     ]
    },
    {
     "data": {
      "text/plain": [
       "[<tf.Tensor: shape=(), dtype=string, numpy=b''>,\n",
       " <tf.Tensor: shape=(), dtype=string, numpy=b''>]"
      ]
     },
     "execution_count": 58,
     "metadata": {},
     "output_type": "execute_result"
    }
   ],
   "source": [
    "print('~'*100, 'PREDICTIONS')  \n",
    "[tf.strings.reduce_join([num_to_char(word) for word in sentence]) for sentence in decoded]"
   ]
  },
  {
   "cell_type": "code",
   "execution_count": 59,
   "id": "0ac51a67-4a6c-4fff-9cab-bb6643ee0556",
   "metadata": {},
   "outputs": [
    {
     "name": "stdout",
     "output_type": "stream",
     "text": [
      "~~~~~~~~~~~~~~~~~~~~~~~~~~~~~~~~~~~~~~~~~~~~~~~~~~~~~~~~~~~~~~~~~~~~~~~~~~~~~~~~~~~~~~~~~~~~~~~~~~~~ REAL TEXT\n"
     ]
    },
    {
     "data": {
      "text/plain": [
       "[<tf.Tensor: shape=(), dtype=string, numpy=b'lay white at f zero please'>,\n",
       " <tf.Tensor: shape=(), dtype=string, numpy=b'set green with p nine soon'>]"
      ]
     },
     "execution_count": 59,
     "metadata": {},
     "output_type": "execute_result"
    }
   ],
   "source": [
    "print('~'*100, 'REAL TEXT')  \n",
    "[tf.strings.reduce_join([num_to_char(word) for word in sentence]) for sentence in sample[1]]"
   ]
  },
  {
   "cell_type": "markdown",
   "id": "ea24b668-9238-47ff-b244-c642b8aefdc5",
   "metadata": {},
   "source": [
    "#### Using Nicholas's (youtube author who is teaching this tutorial) model architecture to make predictions"
   ]
  },
  {
   "cell_type": "code",
   "execution_count": 60,
   "id": "b4a6d926-adc8-44a3-b1b1-1aa8c50420be",
   "metadata": {},
   "outputs": [
    {
     "name": "stderr",
     "output_type": "stream",
     "text": [
      "Downloading...\n",
      "From (original): https://drive.google.com/uc?id=1vWscXs4Vt0a_1IH1-ct2TCgXAZT-N3_Y\n",
      "From (redirected): https://drive.google.com/uc?id=1vWscXs4Vt0a_1IH1-ct2TCgXAZT-N3_Y&confirm=t&uuid=343d4e6a-a858-465d-9aa4-c669e14a428f\n",
      "To: /home/aditya/Public/Programming/data-science-projects-nicholas-renotte/building-a-deep-learning-model-that-can-lip-read/checkpoints.zip\n",
      "100%|███████████████████████████████████████████████████████████| 94.5M/94.5M [03:47<00:00, 415kB/s]\n"
     ]
    },
    {
     "data": {
      "text/plain": [
       "['nicholas_model/checkpoint.index',\n",
       " 'nicholas_model/__MACOSX/._checkpoint.index',\n",
       " 'nicholas_model/checkpoint.data-00000-of-00001',\n",
       " 'nicholas_model/__MACOSX/._checkpoint.data-00000-of-00001',\n",
       " 'nicholas_model/checkpoint',\n",
       " 'nicholas_model/__MACOSX/._checkpoint']"
      ]
     },
     "execution_count": 60,
     "metadata": {},
     "output_type": "execute_result"
    }
   ],
   "source": [
    "url = 'https://drive.google.com/uc?id=1vWscXs4Vt0a_1IH1-ct2TCgXAZT-N3_Y'\n",
    "output = 'checkpoints.zip'\n",
    "gdown.download(url, output, quiet=False)\n",
    "gdown.extractall('checkpoints.zip', 'nicholas_model')"
   ]
  },
  {
   "cell_type": "code",
   "execution_count": 62,
   "id": "c9171643-005a-443b-b1dc-78eeecda5d7b",
   "metadata": {
    "scrolled": true
   },
   "outputs": [
    {
     "name": "stderr",
     "output_type": "stream",
     "text": [
      "2025-07-20 09:49:39.564998: I tensorflow/core/common_runtime/executor.cc:1197] [/device:CPU:0] (DEBUG INFO) Executor start aborting (this does not indicate an error and you can ignore this message): INVALID_ARGUMENT: You must feed a value for placeholder tensor 'gradients/split_2_grad/concat/split_2/split_dim' with dtype int32\n",
      "\t [[{{node gradients/split_2_grad/concat/split_2/split_dim}}]]\n",
      "2025-07-20 09:49:39.567008: I tensorflow/core/common_runtime/executor.cc:1197] [/device:CPU:0] (DEBUG INFO) Executor start aborting (this does not indicate an error and you can ignore this message): INVALID_ARGUMENT: You must feed a value for placeholder tensor 'gradients/split_grad/concat/split/split_dim' with dtype int32\n",
      "\t [[{{node gradients/split_grad/concat/split/split_dim}}]]\n",
      "2025-07-20 09:49:39.568463: I tensorflow/core/common_runtime/executor.cc:1197] [/device:CPU:0] (DEBUG INFO) Executor start aborting (this does not indicate an error and you can ignore this message): INVALID_ARGUMENT: You must feed a value for placeholder tensor 'gradients/split_1_grad/concat/split_1/split_dim' with dtype int32\n",
      "\t [[{{node gradients/split_1_grad/concat/split_1/split_dim}}]]\n",
      "2025-07-20 09:49:39.745492: I tensorflow/core/common_runtime/executor.cc:1197] [/device:CPU:0] (DEBUG INFO) Executor start aborting (this does not indicate an error and you can ignore this message): INVALID_ARGUMENT: You must feed a value for placeholder tensor 'gradients/ReverseV2_grad/ReverseV2/ReverseV2/axis' with dtype int32 and shape [1]\n",
      "\t [[{{node gradients/ReverseV2_grad/ReverseV2/ReverseV2/axis}}]]\n",
      "2025-07-20 09:49:39.812521: I tensorflow/core/common_runtime/executor.cc:1197] [/device:CPU:0] (DEBUG INFO) Executor start aborting (this does not indicate an error and you can ignore this message): INVALID_ARGUMENT: You must feed a value for placeholder tensor 'gradients/split_2_grad/concat/split_2/split_dim' with dtype int32\n",
      "\t [[{{node gradients/split_2_grad/concat/split_2/split_dim}}]]\n",
      "2025-07-20 09:49:39.814335: I tensorflow/core/common_runtime/executor.cc:1197] [/device:CPU:0] (DEBUG INFO) Executor start aborting (this does not indicate an error and you can ignore this message): INVALID_ARGUMENT: You must feed a value for placeholder tensor 'gradients/split_grad/concat/split/split_dim' with dtype int32\n",
      "\t [[{{node gradients/split_grad/concat/split/split_dim}}]]\n",
      "2025-07-20 09:49:39.815712: I tensorflow/core/common_runtime/executor.cc:1197] [/device:CPU:0] (DEBUG INFO) Executor start aborting (this does not indicate an error and you can ignore this message): INVALID_ARGUMENT: You must feed a value for placeholder tensor 'gradients/split_1_grad/concat/split_1/split_dim' with dtype int32\n",
      "\t [[{{node gradients/split_1_grad/concat/split_1/split_dim}}]]\n",
      "2025-07-20 09:49:40.327156: I tensorflow/core/common_runtime/executor.cc:1197] [/device:CPU:0] (DEBUG INFO) Executor start aborting (this does not indicate an error and you can ignore this message): INVALID_ARGUMENT: You must feed a value for placeholder tensor 'gradients/split_2_grad/concat/split_2/split_dim' with dtype int32\n",
      "\t [[{{node gradients/split_2_grad/concat/split_2/split_dim}}]]\n",
      "2025-07-20 09:49:40.329662: I tensorflow/core/common_runtime/executor.cc:1197] [/device:CPU:0] (DEBUG INFO) Executor start aborting (this does not indicate an error and you can ignore this message): INVALID_ARGUMENT: You must feed a value for placeholder tensor 'gradients/split_grad/concat/split/split_dim' with dtype int32\n",
      "\t [[{{node gradients/split_grad/concat/split/split_dim}}]]\n",
      "2025-07-20 09:49:40.331415: I tensorflow/core/common_runtime/executor.cc:1197] [/device:CPU:0] (DEBUG INFO) Executor start aborting (this does not indicate an error and you can ignore this message): INVALID_ARGUMENT: You must feed a value for placeholder tensor 'gradients/split_1_grad/concat/split_1/split_dim' with dtype int32\n",
      "\t [[{{node gradients/split_1_grad/concat/split_1/split_dim}}]]\n",
      "2025-07-20 09:49:40.507249: I tensorflow/core/common_runtime/executor.cc:1197] [/device:CPU:0] (DEBUG INFO) Executor start aborting (this does not indicate an error and you can ignore this message): INVALID_ARGUMENT: You must feed a value for placeholder tensor 'gradients/ReverseV2_grad/ReverseV2/ReverseV2/axis' with dtype int32 and shape [1]\n",
      "\t [[{{node gradients/ReverseV2_grad/ReverseV2/ReverseV2/axis}}]]\n",
      "2025-07-20 09:49:40.575618: I tensorflow/core/common_runtime/executor.cc:1197] [/device:CPU:0] (DEBUG INFO) Executor start aborting (this does not indicate an error and you can ignore this message): INVALID_ARGUMENT: You must feed a value for placeholder tensor 'gradients/split_2_grad/concat/split_2/split_dim' with dtype int32\n",
      "\t [[{{node gradients/split_2_grad/concat/split_2/split_dim}}]]\n",
      "2025-07-20 09:49:40.577806: I tensorflow/core/common_runtime/executor.cc:1197] [/device:CPU:0] (DEBUG INFO) Executor start aborting (this does not indicate an error and you can ignore this message): INVALID_ARGUMENT: You must feed a value for placeholder tensor 'gradients/split_grad/concat/split/split_dim' with dtype int32\n",
      "\t [[{{node gradients/split_grad/concat/split/split_dim}}]]\n",
      "2025-07-20 09:49:40.579593: I tensorflow/core/common_runtime/executor.cc:1197] [/device:CPU:0] (DEBUG INFO) Executor start aborting (this does not indicate an error and you can ignore this message): INVALID_ARGUMENT: You must feed a value for placeholder tensor 'gradients/split_1_grad/concat/split_1/split_dim' with dtype int32\n",
      "\t [[{{node gradients/split_1_grad/concat/split_1/split_dim}}]]\n"
     ]
    }
   ],
   "source": [
    "model2 = Sequential()\n",
    "model2.add(Conv3D(128, 3, input_shape=(75,46,140,1), padding='same'))\n",
    "model2.add(Activation('relu'))\n",
    "model2.add(MaxPool3D((1,2,2)))\n",
    "\n",
    "model2.add(Conv3D(256, 3, padding='same'))\n",
    "model2.add(Activation('relu'))\n",
    "model2.add(MaxPool3D((1,2,2)))\n",
    "\n",
    "model2.add(Conv3D(75, 3, padding='same'))\n",
    "model2.add(Activation('relu'))\n",
    "model2.add(MaxPool3D((1,2,2)))\n",
    "\n",
    "model2.add(TimeDistributed(Flatten()))\n",
    "\n",
    "model2.add(Bidirectional(LSTM(128, kernel_initializer='Orthogonal', return_sequences=True)))\n",
    "model2.add(Dropout(0.5))\n",
    "\n",
    "model2.add(Bidirectional(LSTM(128, kernel_initializer='Orthogonal', return_sequences=True)))\n",
    "model2.add(Dropout(0.5))\n",
    "\n",
    "model2.add(Dense(char_to_num.vocabulary_size()+1, kernel_initializer='he_normal', activation='softmax'))"
   ]
  },
  {
   "cell_type": "code",
   "execution_count": 63,
   "id": "ab2bebaf-624f-43a0-af2e-5168de497828",
   "metadata": {},
   "outputs": [
    {
     "data": {
      "text/plain": [
       "<tensorflow.python.checkpoint.checkpoint.CheckpointLoadStatus at 0x752da967eda0>"
      ]
     },
     "execution_count": 63,
     "metadata": {},
     "output_type": "execute_result"
    }
   ],
   "source": [
    "model2.load_weights('nicholas_model/checkpoint')"
   ]
  },
  {
   "cell_type": "code",
   "execution_count": 64,
   "id": "9791e920-adb3-436b-8119-6326c33f3b4e",
   "metadata": {},
   "outputs": [
    {
     "name": "stdout",
     "output_type": "stream",
     "text": [
      "Model: \"sequential_1\"\n",
      "_________________________________________________________________\n",
      " Layer (type)                Output Shape              Param #   \n",
      "=================================================================\n",
      " conv3d_3 (Conv3D)           (None, 75, 46, 140, 128)  3584      \n",
      "                                                                 \n",
      " activation_3 (Activation)   (None, 75, 46, 140, 128)  0         \n",
      "                                                                 \n",
      " max_pooling3d_3 (MaxPooling  (None, 75, 23, 70, 128)  0         \n",
      " 3D)                                                             \n",
      "                                                                 \n",
      " conv3d_4 (Conv3D)           (None, 75, 23, 70, 256)   884992    \n",
      "                                                                 \n",
      " activation_4 (Activation)   (None, 75, 23, 70, 256)   0         \n",
      "                                                                 \n",
      " max_pooling3d_4 (MaxPooling  (None, 75, 11, 35, 256)  0         \n",
      " 3D)                                                             \n",
      "                                                                 \n",
      " conv3d_5 (Conv3D)           (None, 75, 11, 35, 75)    518475    \n",
      "                                                                 \n",
      " activation_5 (Activation)   (None, 75, 11, 35, 75)    0         \n",
      "                                                                 \n",
      " max_pooling3d_5 (MaxPooling  (None, 75, 5, 17, 75)    0         \n",
      " 3D)                                                             \n",
      "                                                                 \n",
      " time_distributed_1 (TimeDis  (None, 75, 6375)         0         \n",
      " tributed)                                                       \n",
      "                                                                 \n",
      " bidirectional_2 (Bidirectio  (None, 75, 256)          6660096   \n",
      " nal)                                                            \n",
      "                                                                 \n",
      " dropout_2 (Dropout)         (None, 75, 256)           0         \n",
      "                                                                 \n",
      " bidirectional_3 (Bidirectio  (None, 75, 256)          394240    \n",
      " nal)                                                            \n",
      "                                                                 \n",
      " dropout_3 (Dropout)         (None, 75, 256)           0         \n",
      "                                                                 \n",
      " dense_1 (Dense)             (None, 75, 41)            10537     \n",
      "                                                                 \n",
      "=================================================================\n",
      "Total params: 8,471,924\n",
      "Trainable params: 8,471,924\n",
      "Non-trainable params: 0\n",
      "_________________________________________________________________\n"
     ]
    }
   ],
   "source": [
    "model2.summary()"
   ]
  },
  {
   "cell_type": "code",
   "execution_count": 65,
   "id": "7e26ca1e-9dc1-4eff-8644-6ecd1c7d6a0d",
   "metadata": {},
   "outputs": [],
   "source": [
    "from tensorflow.keras.optimizers.legacy import Adam\n",
    "model2.compile(optimizer=Adam(learning_rate=0.0001), loss=CTCLoss)"
   ]
  },
  {
   "cell_type": "code",
   "execution_count": 66,
   "id": "a5aba390-a30e-4863-b344-8d9d96fb1c8d",
   "metadata": {},
   "outputs": [],
   "source": [
    "sample = test_data.next()"
   ]
  },
  {
   "cell_type": "code",
   "execution_count": 67,
   "id": "8734cfbf-c687-4750-bc35-e9515d6868c4",
   "metadata": {
    "scrolled": true
   },
   "outputs": [
    {
     "name": "stderr",
     "output_type": "stream",
     "text": [
      "2025-07-20 09:50:42.114416: I tensorflow/core/common_runtime/executor.cc:1197] [/device:CPU:0] (DEBUG INFO) Executor start aborting (this does not indicate an error and you can ignore this message): INVALID_ARGUMENT: You must feed a value for placeholder tensor 'gradients/split_2_grad/concat/split_2/split_dim' with dtype int32\n",
      "\t [[{{node gradients/split_2_grad/concat/split_2/split_dim}}]]\n",
      "2025-07-20 09:50:42.118249: I tensorflow/core/common_runtime/executor.cc:1197] [/device:CPU:0] (DEBUG INFO) Executor start aborting (this does not indicate an error and you can ignore this message): INVALID_ARGUMENT: You must feed a value for placeholder tensor 'gradients/split_grad/concat/split/split_dim' with dtype int32\n",
      "\t [[{{node gradients/split_grad/concat/split/split_dim}}]]\n",
      "2025-07-20 09:50:42.119942: I tensorflow/core/common_runtime/executor.cc:1197] [/device:CPU:0] (DEBUG INFO) Executor start aborting (this does not indicate an error and you can ignore this message): INVALID_ARGUMENT: You must feed a value for placeholder tensor 'gradients/split_1_grad/concat/split_1/split_dim' with dtype int32\n",
      "\t [[{{node gradients/split_1_grad/concat/split_1/split_dim}}]]\n",
      "2025-07-20 09:50:42.305001: I tensorflow/core/common_runtime/executor.cc:1197] [/device:CPU:0] (DEBUG INFO) Executor start aborting (this does not indicate an error and you can ignore this message): INVALID_ARGUMENT: You must feed a value for placeholder tensor 'gradients/ReverseV2_grad/ReverseV2/ReverseV2/axis' with dtype int32 and shape [1]\n",
      "\t [[{{node gradients/ReverseV2_grad/ReverseV2/ReverseV2/axis}}]]\n",
      "2025-07-20 09:50:42.401462: I tensorflow/core/common_runtime/executor.cc:1197] [/device:CPU:0] (DEBUG INFO) Executor start aborting (this does not indicate an error and you can ignore this message): INVALID_ARGUMENT: You must feed a value for placeholder tensor 'gradients/split_2_grad/concat/split_2/split_dim' with dtype int32\n",
      "\t [[{{node gradients/split_2_grad/concat/split_2/split_dim}}]]\n",
      "2025-07-20 09:50:42.403320: I tensorflow/core/common_runtime/executor.cc:1197] [/device:CPU:0] (DEBUG INFO) Executor start aborting (this does not indicate an error and you can ignore this message): INVALID_ARGUMENT: You must feed a value for placeholder tensor 'gradients/split_grad/concat/split/split_dim' with dtype int32\n",
      "\t [[{{node gradients/split_grad/concat/split/split_dim}}]]\n",
      "2025-07-20 09:50:42.404791: I tensorflow/core/common_runtime/executor.cc:1197] [/device:CPU:0] (DEBUG INFO) Executor start aborting (this does not indicate an error and you can ignore this message): INVALID_ARGUMENT: You must feed a value for placeholder tensor 'gradients/split_1_grad/concat/split_1/split_dim' with dtype int32\n",
      "\t [[{{node gradients/split_1_grad/concat/split_1/split_dim}}]]\n",
      "2025-07-20 09:50:42.656037: I tensorflow/core/common_runtime/executor.cc:1197] [/device:CPU:0] (DEBUG INFO) Executor start aborting (this does not indicate an error and you can ignore this message): INVALID_ARGUMENT: You must feed a value for placeholder tensor 'gradients/split_2_grad/concat/split_2/split_dim' with dtype int32\n",
      "\t [[{{node gradients/split_2_grad/concat/split_2/split_dim}}]]\n",
      "2025-07-20 09:50:42.658541: I tensorflow/core/common_runtime/executor.cc:1197] [/device:CPU:0] (DEBUG INFO) Executor start aborting (this does not indicate an error and you can ignore this message): INVALID_ARGUMENT: You must feed a value for placeholder tensor 'gradients/split_grad/concat/split/split_dim' with dtype int32\n",
      "\t [[{{node gradients/split_grad/concat/split/split_dim}}]]\n",
      "2025-07-20 09:50:42.660458: I tensorflow/core/common_runtime/executor.cc:1197] [/device:CPU:0] (DEBUG INFO) Executor start aborting (this does not indicate an error and you can ignore this message): INVALID_ARGUMENT: You must feed a value for placeholder tensor 'gradients/split_1_grad/concat/split_1/split_dim' with dtype int32\n",
      "\t [[{{node gradients/split_1_grad/concat/split_1/split_dim}}]]\n",
      "2025-07-20 09:50:42.852157: I tensorflow/core/common_runtime/executor.cc:1197] [/device:CPU:0] (DEBUG INFO) Executor start aborting (this does not indicate an error and you can ignore this message): INVALID_ARGUMENT: You must feed a value for placeholder tensor 'gradients/ReverseV2_grad/ReverseV2/ReverseV2/axis' with dtype int32 and shape [1]\n",
      "\t [[{{node gradients/ReverseV2_grad/ReverseV2/ReverseV2/axis}}]]\n",
      "2025-07-20 09:50:42.938913: I tensorflow/core/common_runtime/executor.cc:1197] [/device:CPU:0] (DEBUG INFO) Executor start aborting (this does not indicate an error and you can ignore this message): INVALID_ARGUMENT: You must feed a value for placeholder tensor 'gradients/split_2_grad/concat/split_2/split_dim' with dtype int32\n",
      "\t [[{{node gradients/split_2_grad/concat/split_2/split_dim}}]]\n",
      "2025-07-20 09:50:42.941653: I tensorflow/core/common_runtime/executor.cc:1197] [/device:CPU:0] (DEBUG INFO) Executor start aborting (this does not indicate an error and you can ignore this message): INVALID_ARGUMENT: You must feed a value for placeholder tensor 'gradients/split_grad/concat/split/split_dim' with dtype int32\n",
      "\t [[{{node gradients/split_grad/concat/split/split_dim}}]]\n",
      "2025-07-20 09:50:42.943751: I tensorflow/core/common_runtime/executor.cc:1197] [/device:CPU:0] (DEBUG INFO) Executor start aborting (this does not indicate an error and you can ignore this message): INVALID_ARGUMENT: You must feed a value for placeholder tensor 'gradients/split_1_grad/concat/split_1/split_dim' with dtype int32\n",
      "\t [[{{node gradients/split_1_grad/concat/split_1/split_dim}}]]\n"
     ]
    },
    {
     "name": "stdout",
     "output_type": "stream",
     "text": [
      "1/1 [==============================] - 9s 9s/step\n"
     ]
    }
   ],
   "source": [
    "yhat = model2.predict(sample[0])"
   ]
  },
  {
   "cell_type": "code",
   "execution_count": 68,
   "id": "e0f809c0-83a0-4be9-8348-ddf27750b25e",
   "metadata": {},
   "outputs": [],
   "source": [
    "decoded = tf.keras.backend.ctc_decode(yhat, [75,75], greedy=False)[0][0].numpy()"
   ]
  },
  {
   "cell_type": "code",
   "execution_count": 69,
   "id": "d30122eb-3934-4255-bf46-70129269506e",
   "metadata": {},
   "outputs": [
    {
     "name": "stdout",
     "output_type": "stream",
     "text": [
      "~~~~~~~~~~ PREDICTIONS\n"
     ]
    },
    {
     "data": {
      "text/plain": [
       "[<tf.Tensor: shape=(), dtype=string, numpy=b'set gren at p thre again'>,\n",
       " <tf.Tensor: shape=(), dtype=string, numpy=b'place blue by j zero please'>]"
      ]
     },
     "execution_count": 69,
     "metadata": {},
     "output_type": "execute_result"
    }
   ],
   "source": [
    "print(\"~\"*10, 'PREDICTIONS')\n",
    "[tf.strings.reduce_join([num_to_char(word) for word in sentence]) for sentence in decoded]"
   ]
  },
  {
   "cell_type": "code",
   "execution_count": 70,
   "id": "2795a920-9ff1-41b5-b2cc-619a534b7337",
   "metadata": {},
   "outputs": [
    {
     "name": "stdout",
     "output_type": "stream",
     "text": [
      "~~~~~~~~~~~~~~~~~~~~~~~~~~~~~~~~~~~~~~~~~~~~~~~~~~~~~~~~~~~~~~~~~~~~~~~~~~~~~~~~~~~~~~~~~~~~~~~~~~~~ REAL TEXT\n"
     ]
    },
    {
     "data": {
      "text/plain": [
       "[<tf.Tensor: shape=(), dtype=string, numpy=b'set green at p three again'>,\n",
       " <tf.Tensor: shape=(), dtype=string, numpy=b'place blue by j zero please'>]"
      ]
     },
     "execution_count": 70,
     "metadata": {},
     "output_type": "execute_result"
    }
   ],
   "source": [
    "print('~'*100, 'REAL TEXT')  \n",
    "[tf.strings.reduce_join([num_to_char(word) for word in sentence]) for sentence in sample[1]]"
   ]
  },
  {
   "cell_type": "code",
   "execution_count": 71,
   "id": "720e6f39-82f7-4a36-b464-5bb0c2614ffb",
   "metadata": {},
   "outputs": [],
   "source": []
  },
  {
   "cell_type": "code",
   "execution_count": null,
   "id": "a20d11fc-3dda-4582-b1ae-4687a1f62a6b",
   "metadata": {},
   "outputs": [
    {
     "name": "stderr",
     "output_type": "stream",
     "text": [
      "2025-07-20 09:51:35.546545: I tensorflow/core/common_runtime/executor.cc:1197] [/device:CPU:0] (DEBUG INFO) Executor start aborting (this does not indicate an error and you can ignore this message): INVALID_ARGUMENT: You must feed a value for placeholder tensor 'gradients/split_2_grad/concat/split_2/split_dim' with dtype int32\n",
      "\t [[{{node gradients/split_2_grad/concat/split_2/split_dim}}]]\n",
      "2025-07-20 09:51:35.550367: I tensorflow/core/common_runtime/executor.cc:1197] [/device:CPU:0] (DEBUG INFO) Executor start aborting (this does not indicate an error and you can ignore this message): INVALID_ARGUMENT: You must feed a value for placeholder tensor 'gradients/split_grad/concat/split/split_dim' with dtype int32\n",
      "\t [[{{node gradients/split_grad/concat/split/split_dim}}]]\n",
      "2025-07-20 09:51:35.556429: I tensorflow/core/common_runtime/executor.cc:1197] [/device:CPU:0] (DEBUG INFO) Executor start aborting (this does not indicate an error and you can ignore this message): INVALID_ARGUMENT: You must feed a value for placeholder tensor 'gradients/split_1_grad/concat/split_1/split_dim' with dtype int32\n",
      "\t [[{{node gradients/split_1_grad/concat/split_1/split_dim}}]]\n",
      "2025-07-20 09:51:35.746926: I tensorflow/core/common_runtime/executor.cc:1197] [/device:CPU:0] (DEBUG INFO) Executor start aborting (this does not indicate an error and you can ignore this message): INVALID_ARGUMENT: You must feed a value for placeholder tensor 'gradients/ReverseV2_grad/ReverseV2/ReverseV2/axis' with dtype int32 and shape [1]\n",
      "\t [[{{node gradients/ReverseV2_grad/ReverseV2/ReverseV2/axis}}]]\n",
      "2025-07-20 09:51:35.820916: I tensorflow/core/common_runtime/executor.cc:1197] [/device:CPU:0] (DEBUG INFO) Executor start aborting (this does not indicate an error and you can ignore this message): INVALID_ARGUMENT: You must feed a value for placeholder tensor 'gradients/split_2_grad/concat/split_2/split_dim' with dtype int32\n",
      "\t [[{{node gradients/split_2_grad/concat/split_2/split_dim}}]]\n",
      "2025-07-20 09:51:35.824038: I tensorflow/core/common_runtime/executor.cc:1197] [/device:CPU:0] (DEBUG INFO) Executor start aborting (this does not indicate an error and you can ignore this message): INVALID_ARGUMENT: You must feed a value for placeholder tensor 'gradients/split_grad/concat/split/split_dim' with dtype int32\n",
      "\t [[{{node gradients/split_grad/concat/split/split_dim}}]]\n",
      "2025-07-20 09:51:35.825881: I tensorflow/core/common_runtime/executor.cc:1197] [/device:CPU:0] (DEBUG INFO) Executor start aborting (this does not indicate an error and you can ignore this message): INVALID_ARGUMENT: You must feed a value for placeholder tensor 'gradients/split_1_grad/concat/split_1/split_dim' with dtype int32\n",
      "\t [[{{node gradients/split_1_grad/concat/split_1/split_dim}}]]\n",
      "2025-07-20 09:51:36.080329: I tensorflow/core/common_runtime/executor.cc:1197] [/device:CPU:0] (DEBUG INFO) Executor start aborting (this does not indicate an error and you can ignore this message): INVALID_ARGUMENT: You must feed a value for placeholder tensor 'gradients/split_2_grad/concat/split_2/split_dim' with dtype int32\n",
      "\t [[{{node gradients/split_2_grad/concat/split_2/split_dim}}]]\n",
      "2025-07-20 09:51:36.082230: I tensorflow/core/common_runtime/executor.cc:1197] [/device:CPU:0] (DEBUG INFO) Executor start aborting (this does not indicate an error and you can ignore this message): INVALID_ARGUMENT: You must feed a value for placeholder tensor 'gradients/split_grad/concat/split/split_dim' with dtype int32\n",
      "\t [[{{node gradients/split_grad/concat/split/split_dim}}]]\n",
      "2025-07-20 09:51:36.083698: I tensorflow/core/common_runtime/executor.cc:1197] [/device:CPU:0] (DEBUG INFO) Executor start aborting (this does not indicate an error and you can ignore this message): INVALID_ARGUMENT: You must feed a value for placeholder tensor 'gradients/split_1_grad/concat/split_1/split_dim' with dtype int32\n",
      "\t [[{{node gradients/split_1_grad/concat/split_1/split_dim}}]]\n",
      "2025-07-20 09:51:36.273290: I tensorflow/core/common_runtime/executor.cc:1197] [/device:CPU:0] (DEBUG INFO) Executor start aborting (this does not indicate an error and you can ignore this message): INVALID_ARGUMENT: You must feed a value for placeholder tensor 'gradients/ReverseV2_grad/ReverseV2/ReverseV2/axis' with dtype int32 and shape [1]\n",
      "\t [[{{node gradients/ReverseV2_grad/ReverseV2/ReverseV2/axis}}]]\n",
      "2025-07-20 09:51:36.344776: I tensorflow/core/common_runtime/executor.cc:1197] [/device:CPU:0] (DEBUG INFO) Executor start aborting (this does not indicate an error and you can ignore this message): INVALID_ARGUMENT: You must feed a value for placeholder tensor 'gradients/split_2_grad/concat/split_2/split_dim' with dtype int32\n",
      "\t [[{{node gradients/split_2_grad/concat/split_2/split_dim}}]]\n",
      "2025-07-20 09:51:36.346884: I tensorflow/core/common_runtime/executor.cc:1197] [/device:CPU:0] (DEBUG INFO) Executor start aborting (this does not indicate an error and you can ignore this message): INVALID_ARGUMENT: You must feed a value for placeholder tensor 'gradients/split_grad/concat/split/split_dim' with dtype int32\n",
      "\t [[{{node gradients/split_grad/concat/split/split_dim}}]]\n",
      "2025-07-20 09:51:36.348435: I tensorflow/core/common_runtime/executor.cc:1197] [/device:CPU:0] (DEBUG INFO) Executor start aborting (this does not indicate an error and you can ignore this message): INVALID_ARGUMENT: You must feed a value for placeholder tensor 'gradients/split_1_grad/concat/split_1/split_dim' with dtype int32\n",
      "\t [[{{node gradients/split_1_grad/concat/split_1/split_dim}}]]\n"
     ]
    }
   ],
   "source": []
  },
  {
   "cell_type": "code",
   "execution_count": null,
   "id": "6e3a58c6-6886-4e56-99e5-64eeadf87999",
   "metadata": {},
   "outputs": [],
   "source": []
  }
 ],
 "metadata": {
  "kernelspec": {
   "display_name": "Python 3 (ipykernel)",
   "language": "python",
   "name": "python3"
  },
  "language_info": {
   "codemirror_mode": {
    "name": "ipython",
    "version": 3
   },
   "file_extension": ".py",
   "mimetype": "text/x-python",
   "name": "python",
   "nbconvert_exporter": "python",
   "pygments_lexer": "ipython3",
   "version": "3.10.13"
  }
 },
 "nbformat": 4,
 "nbformat_minor": 5
}
